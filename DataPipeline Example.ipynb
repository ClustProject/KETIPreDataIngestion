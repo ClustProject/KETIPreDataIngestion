{
 "cells": [
  {
   "cell_type": "code",
   "execution_count": 4,
   "metadata": {
    "ExecuteTime": {
     "end_time": "2021-08-09T04:59:47.825691Z",
     "start_time": "2021-08-09T04:59:47.742732Z"
    }
   },
   "outputs": [],
   "source": [
    "import pandas as pd\n",
    "import sys\n",
    "import os\n",
    "sys.path.append(\"../\")\n",
    "sys.path.append(\"../..\")"
   ]
  },
  {
   "cell_type": "markdown",
   "metadata": {},
   "source": [
    "# Data Ingestion Initialization"
   ]
  },
  {
   "cell_type": "markdown",
   "metadata": {},
   "source": [
    "## DB Client "
   ]
  },
  {
   "cell_type": "code",
   "execution_count": 5,
   "metadata": {
    "ExecuteTime": {
     "end_time": "2021-08-09T05:06:13.784224Z",
     "start_time": "2021-08-09T05:06:13.777758Z"
    }
   },
   "outputs": [],
   "source": [
    "from KETIPreDataIngestion.KETI_setting import influx_setting_KETI as ins\n",
    "from KETIPreDataIngestion.data_influx import influx_Client\n",
    "\n",
    "DBClient = influx_Client.influxClient(ins)\n",
    "db_list = DBClient.get_DBList()"
   ]
  },
  {
   "cell_type": "code",
   "execution_count": 6,
   "metadata": {},
   "outputs": [
    {
     "data": {
      "text/plain": [
       "['traffic_seoul_subway',\n",
       " 'traffic_seoul_bus',\n",
       " 'test',\n",
       " 'energy_electronic_power',\n",
       " 'test_bio_covid',\n",
       " 'test_indoor_high',\n",
       " 'air_indoor_중학교',\n",
       " 'traffic_seoul_bike',\n",
       " 'traffic_public_parking',\n",
       " 'energy_electricity_transaction',\n",
       " 'energy_fire_power',\n",
       " 'traffic_expressway',\n",
       " 'farm_inner_air',\n",
       " 'farm_outdoor_weather',\n",
       " 'farm_outdoor_weather_clean',\n",
       " 'farm_outdoor_air',\n",
       " 'farm_outdoor_air_clean',\n",
       " 'air_outdoor_에어코리아',\n",
       " 'energy_water_discharge',\n",
       " 'energy_wind_power',\n",
       " 'city_exhibition_entrance_status',\n",
       " 'bio_covid_vaccinations',\n",
       " 'air_indoor_유치원',\n",
       " 'air_indoor_요양원',\n",
       " 'air_indoor_아파트',\n",
       " 'air_indoor_도서관',\n",
       " 'air_indoor_경로당',\n",
       " 'air_indoor_초등학교',\n",
       " 'air_indoor_체육시설',\n",
       " 'air_indoor_어린이집',\n",
       " 'air_indoor_고등학교',\n",
       " 'air_outdoor',\n",
       " 'bio_covid_infected_world',\n",
       " 'bio_covid_infected_korea',\n",
       " '_internal',\n",
       " 'bio_test_infected']"
      ]
     },
     "execution_count": 6,
     "metadata": {},
     "output_type": "execute_result"
    }
   ],
   "source": [
    "db_list"
   ]
  },
  {
   "cell_type": "markdown",
   "metadata": {},
   "source": [
    "## DB and Measurement name setting"
   ]
  },
  {
   "cell_type": "code",
   "execution_count": 7,
   "metadata": {},
   "outputs": [],
   "source": [
    "db_name  = 'farm_inner_air'"
   ]
  },
  {
   "cell_type": "code",
   "execution_count": 10,
   "metadata": {},
   "outputs": [
    {
     "data": {
      "text/plain": [
       "'HS1'"
      ]
     },
     "execution_count": 10,
     "metadata": {},
     "output_type": "execute_result"
    }
   ],
   "source": [
    "ms_list = DBClient.measurement_list(db_name)\n",
    "ms_name = ms_list[0]\n",
    "ms_name"
   ]
  },
  {
   "cell_type": "markdown",
   "metadata": {},
   "source": [
    "# Data Ingestion Methods"
   ]
  },
  {
   "cell_type": "markdown",
   "metadata": {},
   "source": [
    "## pure data ingestion"
   ]
  },
  {
   "cell_type": "markdown",
   "metadata": {},
   "source": [
    "### Ingest Full Data"
   ]
  },
  {
   "cell_type": "code",
   "execution_count": 6,
   "metadata": {},
   "outputs": [
    {
     "name": "stdout",
     "output_type": "stream",
     "text": [
      "farm_inner_air HS1\n"
     ]
    }
   ],
   "source": [
    "print(db_name, ms_name)"
   ]
  },
  {
   "cell_type": "code",
   "execution_count": 7,
   "metadata": {
    "scrolled": true
   },
   "outputs": [
    {
     "data": {
      "text/html": [
       "<div>\n",
       "<style scoped>\n",
       "    .dataframe tbody tr th:only-of-type {\n",
       "        vertical-align: middle;\n",
       "    }\n",
       "\n",
       "    .dataframe tbody tr th {\n",
       "        vertical-align: top;\n",
       "    }\n",
       "\n",
       "    .dataframe thead th {\n",
       "        text-align: right;\n",
       "    }\n",
       "</style>\n",
       "<table border=\"1\" class=\"dataframe\">\n",
       "  <thead>\n",
       "    <tr style=\"text-align: right;\">\n",
       "      <th></th>\n",
       "      <th>CO2ppm</th>\n",
       "      <th>H2Sppm</th>\n",
       "      <th>Humidity</th>\n",
       "      <th>NH3ppm</th>\n",
       "      <th>Temperature</th>\n",
       "    </tr>\n",
       "    <tr>\n",
       "      <th>time</th>\n",
       "      <th></th>\n",
       "      <th></th>\n",
       "      <th></th>\n",
       "      <th></th>\n",
       "      <th></th>\n",
       "    </tr>\n",
       "  </thead>\n",
       "  <tbody>\n",
       "    <tr>\n",
       "      <th>2020-09-10 00:36:00+00:00</th>\n",
       "      <td>637.0</td>\n",
       "      <td>5.0</td>\n",
       "      <td>74.0</td>\n",
       "      <td>45.0</td>\n",
       "      <td>24.0</td>\n",
       "    </tr>\n",
       "    <tr>\n",
       "      <th>2020-09-10 00:38:00+00:00</th>\n",
       "      <td>360.0</td>\n",
       "      <td>2.0</td>\n",
       "      <td>74.0</td>\n",
       "      <td>37.0</td>\n",
       "      <td>24.0</td>\n",
       "    </tr>\n",
       "    <tr>\n",
       "      <th>2020-09-10 00:40:00+00:00</th>\n",
       "      <td>465.0</td>\n",
       "      <td>3.0</td>\n",
       "      <td>73.0</td>\n",
       "      <td>31.0</td>\n",
       "      <td>24.0</td>\n",
       "    </tr>\n",
       "    <tr>\n",
       "      <th>2020-09-10 00:42:00+00:00</th>\n",
       "      <td>518.0</td>\n",
       "      <td>2.0</td>\n",
       "      <td>73.0</td>\n",
       "      <td>27.0</td>\n",
       "      <td>24.0</td>\n",
       "    </tr>\n",
       "    <tr>\n",
       "      <th>2020-09-10 00:44:00+00:00</th>\n",
       "      <td>670.0</td>\n",
       "      <td>2.0</td>\n",
       "      <td>73.0</td>\n",
       "      <td>24.0</td>\n",
       "      <td>24.0</td>\n",
       "    </tr>\n",
       "  </tbody>\n",
       "</table>\n",
       "</div>"
      ],
      "text/plain": [
       "                           CO2ppm  H2Sppm  Humidity  NH3ppm  Temperature\n",
       "time                                                                    \n",
       "2020-09-10 00:36:00+00:00   637.0     5.0      74.0    45.0         24.0\n",
       "2020-09-10 00:38:00+00:00   360.0     2.0      74.0    37.0         24.0\n",
       "2020-09-10 00:40:00+00:00   465.0     3.0      73.0    31.0         24.0\n",
       "2020-09-10 00:42:00+00:00   518.0     2.0      73.0    27.0         24.0\n",
       "2020-09-10 00:44:00+00:00   670.0     2.0      73.0    24.0         24.0"
      ]
     },
     "execution_count": 7,
     "metadata": {},
     "output_type": "execute_result"
    }
   ],
   "source": [
    "feature_list = DBClient.get_fieldList(db_name, ms_name)\n",
    "number = \"100\"\n",
    "data = DBClient.get_datafront_by_num(number, db_name, ms_name)\n",
    "data.head()"
   ]
  },
  {
   "cell_type": "code",
   "execution_count": 8,
   "metadata": {},
   "outputs": [
    {
     "name": "stdout",
     "output_type": "stream",
     "text": [
      "                      CO2ppm  H2Sppm  Humidity  NH3ppm  Temperature\n",
      "time                                                               \n",
      "2020-09-10T00:36:00Z   637.0     5.0      74.0    45.0         24.0\n",
      "                      CO2ppm  H2Sppm  Humidity  NH3ppm  Temperature\n",
      "time                                                               \n",
      "2021-03-17T23:30:00Z   993.0     2.0       7.0     2.0         79.0\n",
      "2020-09-10T00:36:00Z 2021-03-17T23:30:00Z\n"
     ]
    }
   ],
   "source": [
    "first = DBClient.get_first_time(db_name, ms_name)\n",
    "last = DBClient.get_last_time(db_name, ms_name)\n",
    "print(first, last)"
   ]
  },
  {
   "cell_type": "code",
   "execution_count": 9,
   "metadata": {},
   "outputs": [],
   "source": [
    "full_data = DBClient.get_data(db_name, ms_name)"
   ]
  },
  {
   "cell_type": "code",
   "execution_count": 10,
   "metadata": {},
   "outputs": [
    {
     "name": "stdout",
     "output_type": "stream",
     "text": [
      "                           CO2ppm  H2Sppm  Humidity  NH3ppm  Temperature\n",
      "time                                                                    \n",
      "2020-09-10 00:36:00+00:00   637.0     5.0      74.0    45.0         24.0\n",
      "2020-09-10 00:38:00+00:00   360.0     2.0      74.0    37.0         24.0\n",
      "2020-09-10 00:40:00+00:00   465.0     3.0      73.0    31.0         24.0\n",
      "2020-09-10 00:42:00+00:00   518.0     2.0      73.0    27.0         24.0\n",
      "2020-09-10 00:44:00+00:00   670.0     2.0      73.0    24.0         24.0\n",
      "                           CO2ppm  H2Sppm  Humidity  NH3ppm  Temperature\n",
      "time                                                                    \n",
      "2021-03-17 23:20:00+00:00   902.0     3.0       7.0     2.0         78.0\n",
      "2021-03-17 23:22:00+00:00   944.0     2.0       7.0     2.0         78.0\n",
      "2021-03-17 23:24:00+00:00   970.0     3.0       7.0     2.0         79.0\n",
      "2021-03-17 23:26:00+00:00   977.0     2.0       7.0     2.0         79.0\n",
      "2021-03-17 23:28:00+00:00   978.0     3.0       7.0     2.0         79.0\n"
     ]
    }
   ],
   "source": [
    "query_end_time = last\n",
    "query_start_time = first\n",
    "bind_params = {'end_time':query_end_time, 'start_time': query_start_time}\n",
    "time_data = DBClient.get_data_by_time(bind_params, db_name, ms_name)\n",
    "print(time_data.head())\n",
    "print(time_data.tail())"
   ]
  },
  {
   "cell_type": "code",
   "execution_count": 11,
   "metadata": {},
   "outputs": [
    {
     "name": "stdout",
     "output_type": "stream",
     "text": [
      "                           CO2ppm  H2Sppm  Humidity  NH3ppm  Temperature\n",
      "time                                                                    \n",
      "2020-09-10 00:36:00+00:00   637.0     5.0      74.0    45.0         24.0\n",
      "2020-09-10 00:38:00+00:00   360.0     2.0      74.0    37.0         24.0\n",
      "2020-09-10 00:40:00+00:00   465.0     3.0      73.0    31.0         24.0\n",
      "2020-09-10 00:42:00+00:00   518.0     2.0      73.0    27.0         24.0\n",
      "2020-09-10 00:44:00+00:00   670.0     2.0      73.0    24.0         24.0\n",
      "                           CO2ppm  H2Sppm  Humidity  NH3ppm  Temperature\n",
      "time                                                                    \n",
      "2020-09-10 00:42:00+00:00   518.0     2.0      73.0    27.0         24.0\n",
      "2020-09-10 00:44:00+00:00   670.0     2.0      73.0    24.0         24.0\n",
      "2020-09-10 00:46:00+00:00    -1.0     NaN       NaN     NaN          NaN\n",
      "2020-09-10 01:06:00+00:00   719.0     2.0      75.0    15.0         23.0\n",
      "2020-09-10 01:08:00+00:00   682.0     3.0      75.0    14.0         24.0\n"
     ]
    }
   ],
   "source": [
    "number=\"20\"\n",
    "time_data = DBClient.get_datafront_by_num(number, db_name, ms_name)\n",
    "print(time_data.head())\n",
    "print(time_data.tail())"
   ]
  },
  {
   "cell_type": "code",
   "execution_count": 12,
   "metadata": {},
   "outputs": [
    {
     "name": "stdout",
     "output_type": "stream",
     "text": [
      "                           CO2ppm  H2Sppm  Humidity  NH3ppm  Temperature\n",
      "time                                                                    \n",
      "2021-03-10 23:30:00+00:00   987.0     5.0       3.0     2.0         78.0\n",
      "2021-03-10 23:32:00+00:00   955.0     3.0       3.0     2.0         78.0\n",
      "2021-03-10 23:34:00+00:00   975.0     4.0       3.0     2.0         79.0\n",
      "2021-03-10 23:36:00+00:00   936.0     5.0       3.0     2.0          NaN\n",
      "2021-03-10 23:38:00+00:00   973.0     2.0       4.0     2.0         78.0                            CO2ppm  H2Sppm  Humidity  NH3ppm  Temperature\n",
      "time                                                                    \n",
      "2021-03-17 23:22:00+00:00   944.0     2.0       7.0     2.0         78.0\n",
      "2021-03-17 23:24:00+00:00   970.0     3.0       7.0     2.0         79.0\n",
      "2021-03-17 23:26:00+00:00   977.0     2.0       7.0     2.0         79.0\n",
      "2021-03-17 23:28:00+00:00   978.0     3.0       7.0     2.0         79.0\n",
      "2021-03-17 23:30:00+00:00   993.0     2.0       7.0     2.0         79.0\n"
     ]
    }
   ],
   "source": [
    "days = 7 \n",
    "bind_params = {'end_time': query_end_time,\"days\":str(days)+\"d\"}\n",
    "day_data = DBClient.get_data_by_days(bind_params, db_name, ms_name)\n",
    "print(day_data.head(), day_data.tail())"
   ]
  },
  {
   "cell_type": "code",
   "execution_count": null,
   "metadata": {},
   "outputs": [],
   "source": []
  }
 ],
 "metadata": {
  "hide_input": false,
  "kernelspec": {
   "display_name": "Python 3",
   "language": "python",
   "name": "python3"
  },
  "language_info": {
   "codemirror_mode": {
    "name": "ipython",
    "version": 3
   },
   "file_extension": ".py",
   "mimetype": "text/x-python",
   "name": "python",
   "nbconvert_exporter": "python",
   "pygments_lexer": "ipython3",
   "version": "3.8.10"
  },
  "toc": {
   "base_numbering": 1,
   "nav_menu": {},
   "number_sections": true,
   "sideBar": true,
   "skip_h1_title": false,
   "title_cell": "Table of Contents",
   "title_sidebar": "Contents",
   "toc_cell": false,
   "toc_position": {},
   "toc_section_display": true,
   "toc_window_display": false
  },
  "varInspector": {
   "cols": {
    "lenName": 16,
    "lenType": 16,
    "lenVar": 40
   },
   "kernels_config": {
    "python": {
     "delete_cmd_postfix": "",
     "delete_cmd_prefix": "del ",
     "library": "var_list.py",
     "varRefreshCmd": "print(var_dic_list())"
    },
    "r": {
     "delete_cmd_postfix": ") ",
     "delete_cmd_prefix": "rm(",
     "library": "var_list.r",
     "varRefreshCmd": "cat(var_dic_list()) "
    }
   },
   "types_to_exclude": [
    "module",
    "function",
    "builtin_function_or_method",
    "instance",
    "_Feature"
   ],
   "window_display": false
  }
 },
 "nbformat": 4,
 "nbformat_minor": 4
}
