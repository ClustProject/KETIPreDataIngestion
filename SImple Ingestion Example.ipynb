{
 "cells": [
  {
   "cell_type": "code",
   "execution_count": 1,
   "metadata": {
    "ExecuteTime": {
     "end_time": "2021-08-09T04:59:47.825691Z",
     "start_time": "2021-08-09T04:59:47.742732Z"
    }
   },
   "outputs": [],
   "source": [
    "import pandas as pd\n",
    "import sys\n",
    "import os\n",
    "sys.path.append(\"../\")\n",
    "sys.path.append(\"../..\")"
   ]
  },
  {
   "cell_type": "markdown",
   "metadata": {},
   "source": [
    "# Data Ingestion Initialization"
   ]
  },
  {
   "cell_type": "markdown",
   "metadata": {},
   "source": [
    "## DB Client "
   ]
  },
  {
   "cell_type": "code",
   "execution_count": 2,
   "metadata": {
    "ExecuteTime": {
     "end_time": "2021-08-09T05:06:13.784224Z",
     "start_time": "2021-08-09T05:06:13.777758Z"
    }
   },
   "outputs": [],
   "source": [
    "from KETIPreDataIngestion.KETI_setting import influx_setting_KETI as ins\n",
    "from KETIPreDataIngestion.data_influx import influx_Client\n",
    "\n",
    "DBClient = influx_Client.influxClient(ins)\n",
    "db_list = DBClient.get_DBList()"
   ]
  },
  {
   "cell_type": "code",
   "execution_count": 3,
   "metadata": {},
   "outputs": [
    {
     "data": {
      "text/plain": [
       "['energy_solar',\n",
       " 'traffic_seoul_subway',\n",
       " 'traffic_seoul_bus',\n",
       " 'test',\n",
       " 'energy_electronic_power',\n",
       " 'test_bio_covid',\n",
       " 'test_indoor_high',\n",
       " 'air_indoor_중학교',\n",
       " 'traffic_seoul_bike',\n",
       " 'traffic_public_parking',\n",
       " 'energy_electricity_transaction',\n",
       " 'energy_fire_power',\n",
       " 'traffic_expressway',\n",
       " 'farm_inner_air',\n",
       " 'farm_outdoor_weather',\n",
       " 'farm_outdoor_weather_clean',\n",
       " 'farm_outdoor_air',\n",
       " 'farm_outdoor_air_clean',\n",
       " 'air_outdoor_에어코리아',\n",
       " 'energy_water_discharge',\n",
       " 'energy_wind_power',\n",
       " 'city_exhibition_entrance_status',\n",
       " 'bio_covid_vaccinations',\n",
       " 'air_indoor_유치원',\n",
       " 'air_indoor_요양원',\n",
       " 'air_indoor_아파트',\n",
       " 'air_indoor_도서관',\n",
       " 'air_indoor_경로당',\n",
       " 'air_indoor_초등학교',\n",
       " 'air_indoor_체육시설',\n",
       " 'air_indoor_어린이집',\n",
       " 'air_indoor_고등학교',\n",
       " 'air_outdoor',\n",
       " 'bio_covid_infected_world',\n",
       " 'bio_covid_infected_korea',\n",
       " 'bio_test_infected',\n",
       " 'keti_rtd',\n",
       " 'culture_subway',\n",
       " 'farm_strawberry_knu',\n",
       " 'weather_korean_nws',\n",
       " 'finance_korean_stock',\n",
       " 'farm_strawberry_gunwi',\n",
       " 'farm_strawberry_awon',\n",
       " 'farm_strawberry_jinan']"
      ]
     },
     "execution_count": 3,
     "metadata": {},
     "output_type": "execute_result"
    }
   ],
   "source": [
    "db_list"
   ]
  },
  {
   "cell_type": "markdown",
   "metadata": {},
   "source": [
    "## DB and Measurement name setting"
   ]
  },
  {
   "cell_type": "code",
   "execution_count": 34,
   "metadata": {},
   "outputs": [],
   "source": [
    "db_name  = 'finance_korean_stock'"
   ]
  },
  {
   "cell_type": "code",
   "execution_count": 35,
   "metadata": {},
   "outputs": [],
   "source": [
    "ms_list = DBClient.measurement_list(db_name)\n",
    "ms_name = ms_list[0]"
   ]
  },
  {
   "cell_type": "markdown",
   "metadata": {},
   "source": [
    "# Data Ingestion Methods"
   ]
  },
  {
   "cell_type": "markdown",
   "metadata": {},
   "source": [
    "## pure data ingestion"
   ]
  },
  {
   "cell_type": "markdown",
   "metadata": {},
   "source": [
    "### Ingest Full Data"
   ]
  },
  {
   "cell_type": "code",
   "execution_count": 36,
   "metadata": {},
   "outputs": [
    {
     "name": "stdout",
     "output_type": "stream",
     "text": [
      "finance_korean_stock finance\n"
     ]
    }
   ],
   "source": [
    "print(db_name, ms_name)"
   ]
  },
  {
   "cell_type": "code",
   "execution_count": 37,
   "metadata": {
    "scrolled": true
   },
   "outputs": [
    {
     "data": {
      "text/html": [
       "<div>\n",
       "<style scoped>\n",
       "    .dataframe tbody tr th:only-of-type {\n",
       "        vertical-align: middle;\n",
       "    }\n",
       "\n",
       "    .dataframe tbody tr th {\n",
       "        vertical-align: top;\n",
       "    }\n",
       "\n",
       "    .dataframe thead th {\n",
       "        text-align: right;\n",
       "    }\n",
       "</style>\n",
       "<table border=\"1\" class=\"dataframe\">\n",
       "  <thead>\n",
       "    <tr style=\"text-align: right;\">\n",
       "      <th></th>\n",
       "      <th>adj_close_value</th>\n",
       "      <th>close_value</th>\n",
       "      <th>company</th>\n",
       "      <th>country</th>\n",
       "      <th>exchange</th>\n",
       "      <th>high_value</th>\n",
       "      <th>industry</th>\n",
       "      <th>low_value</th>\n",
       "      <th>open_value</th>\n",
       "      <th>ticker</th>\n",
       "      <th>volume_value</th>\n",
       "    </tr>\n",
       "    <tr>\n",
       "      <th>time</th>\n",
       "      <th></th>\n",
       "      <th></th>\n",
       "      <th></th>\n",
       "      <th></th>\n",
       "      <th></th>\n",
       "      <th></th>\n",
       "      <th></th>\n",
       "      <th></th>\n",
       "      <th></th>\n",
       "      <th></th>\n",
       "      <th></th>\n",
       "    </tr>\n",
       "  </thead>\n",
       "  <tbody>\n",
       "    <tr>\n",
       "      <th>2021-04-01 00:00:00+00:00</th>\n",
       "      <td>633.598572</td>\n",
       "      <td>637.099976</td>\n",
       "      <td>ASML 홀딩 NV ADR</td>\n",
       "      <td>US</td>\n",
       "      <td>NASDAQ</td>\n",
       "      <td>639.48999</td>\n",
       "      <td>반도체 및 반도체 장비</td>\n",
       "      <td>619.750000</td>\n",
       "      <td>619.799988</td>\n",
       "      <td>ASML</td>\n",
       "      <td>1908300.0</td>\n",
       "    </tr>\n",
       "    <tr>\n",
       "      <th>2021-04-05 00:00:00+00:00</th>\n",
       "      <td>636.969971</td>\n",
       "      <td>640.489990</td>\n",
       "      <td>ASML 홀딩 NV ADR</td>\n",
       "      <td>US</td>\n",
       "      <td>NASDAQ</td>\n",
       "      <td>653.00000</td>\n",
       "      <td>반도체 및 반도체 장비</td>\n",
       "      <td>638.030029</td>\n",
       "      <td>651.650024</td>\n",
       "      <td>ASML</td>\n",
       "      <td>1529800.0</td>\n",
       "    </tr>\n",
       "  </tbody>\n",
       "</table>\n",
       "</div>"
      ],
      "text/plain": [
       "                           adj_close_value  close_value         company  \\\n",
       "time                                                                      \n",
       "2021-04-01 00:00:00+00:00       633.598572   637.099976  ASML 홀딩 NV ADR   \n",
       "2021-04-05 00:00:00+00:00       636.969971   640.489990  ASML 홀딩 NV ADR   \n",
       "\n",
       "                          country exchange  high_value      industry  \\\n",
       "time                                                                   \n",
       "2021-04-01 00:00:00+00:00      US   NASDAQ   639.48999  반도체 및 반도체 장비   \n",
       "2021-04-05 00:00:00+00:00      US   NASDAQ   653.00000  반도체 및 반도체 장비   \n",
       "\n",
       "                            low_value  open_value ticker  volume_value  \n",
       "time                                                                    \n",
       "2021-04-01 00:00:00+00:00  619.750000  619.799988   ASML     1908300.0  \n",
       "2021-04-05 00:00:00+00:00  638.030029  651.650024   ASML     1529800.0  "
      ]
     },
     "execution_count": 37,
     "metadata": {},
     "output_type": "execute_result"
    }
   ],
   "source": [
    "feature_list = DBClient.get_fieldList(db_name, ms_name)\n",
    "number = \"100\"\n",
    "data = DBClient.get_datafront_by_num(number, db_name, ms_name)\n",
    "data.head()"
   ]
  },
  {
   "cell_type": "code",
   "execution_count": 38,
   "metadata": {},
   "outputs": [
    {
     "name": "stdout",
     "output_type": "stream",
     "text": [
      "                      adj_close_value  close_value         company country  \\\n",
      "time                                                                         \n",
      "2021-04-01T00:00:00Z       633.598572   637.099976  ASML 홀딩 NV ADR      US   \n",
      "\n",
      "                     exchange  high_value      industry  low_value  \\\n",
      "time                                                                 \n",
      "2021-04-01T00:00:00Z   NASDAQ   639.48999  반도체 및 반도체 장비     619.75   \n",
      "\n",
      "                      open_value ticker  volume_value  \n",
      "time                                                   \n",
      "2021-04-01T00:00:00Z  619.799988   ASML     1908300.0  \n",
      "                      adj_close_value  close_value company country exchange  \\\n",
      "time                                                                          \n",
      "2021-04-29T00:00:00Z        97.055939    99.089996    헤즈브로      US   NASDAQ   \n",
      "\n",
      "                      high_value industry  low_value  open_value ticker  \\\n",
      "time                                                                      \n",
      "2021-04-29T00:00:00Z   99.510002    레저 상품  98.019997   98.809998    HAS   \n",
      "\n",
      "                      volume_value  \n",
      "time                                \n",
      "2021-04-29T00:00:00Z      756700.0  \n",
      "2021-04-01T00:00:00Z 2021-04-29T00:00:00Z\n"
     ]
    }
   ],
   "source": [
    "first = DBClient.get_first_time(db_name, ms_name)\n",
    "last = DBClient.get_last_time(db_name, ms_name)\n",
    "print(first, last)"
   ]
  },
  {
   "cell_type": "code",
   "execution_count": 39,
   "metadata": {},
   "outputs": [],
   "source": [
    "full_data = DBClient.get_data(db_name, ms_name)"
   ]
  },
  {
   "cell_type": "code",
   "execution_count": 40,
   "metadata": {},
   "outputs": [
    {
     "name": "stdout",
     "output_type": "stream",
     "text": [
      "                           adj_close_value  close_value             company  \\\n",
      "time                                                                          \n",
      "2021-04-01 00:00:00+00:00       633.598572   637.099976      ASML 홀딩 NV ADR   \n",
      "2021-04-05 00:00:00+00:00       636.969971   640.489990      ASML 홀딩 NV ADR   \n",
      "2021-04-06 00:00:00+00:00        54.364899    54.840000                컴캐스트   \n",
      "2021-04-07 00:00:00+00:00       485.309998   485.309998  지브라 테크놀로지스 Class A   \n",
      "2021-04-08 00:00:00+00:00        51.719639    52.009998  뉴 포트리스 에너지 Class A   \n",
      "\n",
      "                          country exchange  high_value      industry  \\\n",
      "time                                                                   \n",
      "2021-04-01 00:00:00+00:00      US   NASDAQ  639.489990  반도체 및 반도체 장비   \n",
      "2021-04-05 00:00:00+00:00      US   NASDAQ  653.000000  반도체 및 반도체 장비   \n",
      "2021-04-06 00:00:00+00:00      US   NASDAQ   55.049999      미디어 및 출판   \n",
      "2021-04-07 00:00:00+00:00      US   NASDAQ  493.440002    전자 장비 및 부품   \n",
      "2021-04-08 00:00:00+00:00      US   NASDAQ   52.209999     천연가스 유틸리티   \n",
      "\n",
      "                            low_value  open_value ticker  volume_value  \n",
      "time                                                                    \n",
      "2021-04-01 00:00:00+00:00  619.750000  619.799988   ASML     1908300.0  \n",
      "2021-04-05 00:00:00+00:00  638.030029  651.650024   ASML     1529800.0  \n",
      "2021-04-06 00:00:00+00:00   54.139999   54.380001  CMCSA    15551900.0  \n",
      "2021-04-07 00:00:00+00:00  484.329987  488.100006   ZBRA      203200.0  \n",
      "2021-04-08 00:00:00+00:00   50.270000   50.869999    NFE      544800.0  \n",
      "                           adj_close_value  close_value             company  \\\n",
      "time                                                                          \n",
      "2021-04-22 00:00:00+00:00        42.302509    42.540001  뉴 포트리스 에너지 Class A   \n",
      "2021-04-23 00:00:00+00:00        58.093246    59.240002                  인텔   \n",
      "2021-04-26 00:00:00+00:00       666.755432   670.440002      ASML 홀딩 NV ADR   \n",
      "2021-04-27 00:00:00+00:00        53.829575    54.299999                컴캐스트   \n",
      "2021-04-28 00:00:00+00:00       496.600006   496.600006  지브라 테크놀로지스 Class A   \n",
      "\n",
      "                          country exchange  high_value      industry  \\\n",
      "time                                                                   \n",
      "2021-04-22 00:00:00+00:00      US   NASDAQ   44.935001     천연가스 유틸리티   \n",
      "2021-04-23 00:00:00+00:00      US   NASDAQ   60.000000  반도체 및 반도체 장비   \n",
      "2021-04-26 00:00:00+00:00      US   NASDAQ  675.650024  반도체 및 반도체 장비   \n",
      "2021-04-27 00:00:00+00:00      US   NASDAQ   54.770000      미디어 및 출판   \n",
      "2021-04-28 00:00:00+00:00      US   NASDAQ  503.029999    전자 장비 및 부품   \n",
      "\n",
      "                            low_value  open_value ticker  volume_value  \n",
      "time                                                                    \n",
      "2021-04-22 00:00:00+00:00   42.490002   43.830002    NFE      395200.0  \n",
      "2021-04-23 00:00:00+00:00   57.900002   59.160000   INTC    77479500.0  \n",
      "2021-04-26 00:00:00+00:00  666.960022  666.960022   ASML      801000.0  \n",
      "2021-04-27 00:00:00+00:00   54.220001   54.459999  CMCSA    12420100.0  \n",
      "2021-04-28 00:00:00+00:00  495.000000  499.609985   ZBRA      199700.0  \n"
     ]
    }
   ],
   "source": [
    "query_end_time = last\n",
    "query_start_time = first\n",
    "bind_params = {'end_time':query_end_time, 'start_time': query_start_time}\n",
    "time_data = DBClient.get_data_by_time(bind_params, db_name, ms_name)\n",
    "print(time_data.head())\n",
    "print(time_data.tail())"
   ]
  },
  {
   "cell_type": "code",
   "execution_count": 41,
   "metadata": {},
   "outputs": [
    {
     "name": "stdout",
     "output_type": "stream",
     "text": [
      "                           adj_close_value  close_value         company  \\\n",
      "time                                                                      \n",
      "2021-04-01 00:00:00+00:00       633.598572   637.099976  ASML 홀딩 NV ADR   \n",
      "\n",
      "                          country exchange  high_value      industry  \\\n",
      "time                                                                   \n",
      "2021-04-01 00:00:00+00:00      US   NASDAQ   639.48999  반도체 및 반도체 장비   \n",
      "\n",
      "                           low_value  open_value ticker  volume_value  \n",
      "time                                                                   \n",
      "2021-04-01 00:00:00+00:00     619.75  619.799988   ASML     1908300.0  \n",
      "                           adj_close_value  close_value         company  \\\n",
      "time                                                                      \n",
      "2021-04-01 00:00:00+00:00       633.598572   637.099976  ASML 홀딩 NV ADR   \n",
      "\n",
      "                          country exchange  high_value      industry  \\\n",
      "time                                                                   \n",
      "2021-04-01 00:00:00+00:00      US   NASDAQ   639.48999  반도체 및 반도체 장비   \n",
      "\n",
      "                           low_value  open_value ticker  volume_value  \n",
      "time                                                                   \n",
      "2021-04-01 00:00:00+00:00     619.75  619.799988   ASML     1908300.0  \n"
     ]
    }
   ],
   "source": [
    "number=\"20\"\n",
    "time_data = DBClient.get_datafront_by_num(number, db_name, ms_name)\n",
    "print(time_data.head())\n",
    "print(time_data.tail())"
   ]
  },
  {
   "cell_type": "code",
   "execution_count": 42,
   "metadata": {},
   "outputs": [
    {
     "name": "stdout",
     "output_type": "stream",
     "text": [
      "                           adj_close_value  close_value             company  \\\n",
      "time                                                                          \n",
      "2021-04-22 00:00:00+00:00       643.533752   647.090027      ASML 홀딩 NV ADR   \n",
      "2021-04-23 00:00:00+00:00        53.918793    54.389999                컴캐스트   \n",
      "2021-04-26 00:00:00+00:00       666.755432   670.440002      ASML 홀딩 NV ADR   \n",
      "2021-04-27 00:00:00+00:00        53.829575    54.299999                컴캐스트   \n",
      "2021-04-28 00:00:00+00:00       496.600006   496.600006  지브라 테크놀로지스 Class A   \n",
      "\n",
      "                          country exchange  high_value      industry  \\\n",
      "time                                                                   \n",
      "2021-04-22 00:00:00+00:00      US   NASDAQ  665.869995  반도체 및 반도체 장비   \n",
      "2021-04-23 00:00:00+00:00      US   NASDAQ   54.709999      미디어 및 출판   \n",
      "2021-04-26 00:00:00+00:00      US   NASDAQ  675.650024  반도체 및 반도체 장비   \n",
      "2021-04-27 00:00:00+00:00      US   NASDAQ   54.770000      미디어 및 출판   \n",
      "2021-04-28 00:00:00+00:00      US   NASDAQ  503.029999    전자 장비 및 부품   \n",
      "\n",
      "                            low_value  open_value ticker  volume_value  \n",
      "time                                                                    \n",
      "2021-04-22 00:00:00+00:00  640.479980  664.169983   ASML     1233400.0  \n",
      "2021-04-23 00:00:00+00:00   53.970001   54.299999  CMCSA    12252300.0  \n",
      "2021-04-26 00:00:00+00:00  666.960022  666.960022   ASML      801000.0  \n",
      "2021-04-27 00:00:00+00:00   54.220001   54.459999  CMCSA    12420100.0  \n",
      "2021-04-28 00:00:00+00:00  495.000000  499.609985   ZBRA      199700.0                              adj_close_value  close_value             company  \\\n",
      "time                                                                          \n",
      "2021-04-23 00:00:00+00:00        53.918793    54.389999                컴캐스트   \n",
      "2021-04-26 00:00:00+00:00       666.755432   670.440002      ASML 홀딩 NV ADR   \n",
      "2021-04-27 00:00:00+00:00        53.829575    54.299999                컴캐스트   \n",
      "2021-04-28 00:00:00+00:00       496.600006   496.600006  지브라 테크놀로지스 Class A   \n",
      "2021-04-29 00:00:00+00:00        43.257149    43.500000  뉴 포트리스 에너지 Class A   \n",
      "\n",
      "                          country exchange  high_value      industry  \\\n",
      "time                                                                   \n",
      "2021-04-23 00:00:00+00:00      US   NASDAQ   54.709999      미디어 및 출판   \n",
      "2021-04-26 00:00:00+00:00      US   NASDAQ  675.650024  반도체 및 반도체 장비   \n",
      "2021-04-27 00:00:00+00:00      US   NASDAQ   54.770000      미디어 및 출판   \n",
      "2021-04-28 00:00:00+00:00      US   NASDAQ  503.029999    전자 장비 및 부품   \n",
      "2021-04-29 00:00:00+00:00      US   NASDAQ   45.075001     천연가스 유틸리티   \n",
      "\n",
      "                            low_value  open_value ticker  volume_value  \n",
      "time                                                                    \n",
      "2021-04-23 00:00:00+00:00   53.970001   54.299999  CMCSA    12252300.0  \n",
      "2021-04-26 00:00:00+00:00  666.960022  666.960022   ASML      801000.0  \n",
      "2021-04-27 00:00:00+00:00   54.220001   54.459999  CMCSA    12420100.0  \n",
      "2021-04-28 00:00:00+00:00  495.000000  499.609985   ZBRA      199700.0  \n",
      "2021-04-29 00:00:00+00:00   42.520000   44.779999    NFE      349500.0  \n"
     ]
    }
   ],
   "source": [
    "days = 7 \n",
    "bind_params = {'end_time': query_end_time,\"days\":str(days)+\"d\"}\n",
    "day_data = DBClient.get_data_by_days(bind_params, db_name, ms_name)\n",
    "print(day_data.head(), day_data.tail())"
   ]
  },
  {
   "cell_type": "code",
   "execution_count": 43,
   "metadata": {},
   "outputs": [
    {
     "ename": "SyntaxError",
     "evalue": "invalid syntax (<ipython-input-43-159ce2604080>, line 1)",
     "output_type": "error",
     "traceback": [
      "\u001b[1;36m  File \u001b[1;32m\"<ipython-input-43-159ce2604080>\"\u001b[1;36m, line \u001b[1;32m1\u001b[0m\n\u001b[1;33m    day_data.['day_data']\u001b[0m\n\u001b[1;37m             ^\u001b[0m\n\u001b[1;31mSyntaxError\u001b[0m\u001b[1;31m:\u001b[0m invalid syntax\n"
     ]
    }
   ],
   "source": [
    "day_data.['day_data']"
   ]
  },
  {
   "cell_type": "code",
   "execution_count": 44,
   "metadata": {},
   "outputs": [],
   "source": [
    "tag_list = DBClient.get_fieldList(db_name, ms_name)"
   ]
  },
  {
   "cell_type": "code",
   "execution_count": 45,
   "metadata": {},
   "outputs": [
    {
     "data": {
      "text/plain": [
       "['adj_close_value',\n",
       " 'close_value',\n",
       " 'high_value',\n",
       " 'low_value',\n",
       " 'open_value',\n",
       " 'volume_value']"
      ]
     },
     "execution_count": 45,
     "metadata": {},
     "output_type": "execute_result"
    }
   ],
   "source": [
    "tag_list"
   ]
  },
  {
   "cell_type": "code",
   "execution_count": 46,
   "metadata": {},
   "outputs": [
    {
     "name": "stdout",
     "output_type": "stream",
     "text": [
      "select * from \"finance\" WHERE \"company\" = \"컴캐스트\"\n"
     ]
    }
   ],
   "source": [
    "tag_key = 'company'\n",
    "tag_value='컴캐스트'\n",
    "\n",
    "df = DBClient.get_TagGroupData(db_name, ms_name, tag_key, tag_value)"
   ]
  },
  {
   "cell_type": "code",
   "execution_count": 29,
   "metadata": {},
   "outputs": [
    {
     "data": {
      "text/html": [
       "<div>\n",
       "<style scoped>\n",
       "    .dataframe tbody tr th:only-of-type {\n",
       "        vertical-align: middle;\n",
       "    }\n",
       "\n",
       "    .dataframe tbody tr th {\n",
       "        vertical-align: top;\n",
       "    }\n",
       "\n",
       "    .dataframe thead th {\n",
       "        text-align: right;\n",
       "    }\n",
       "</style>\n",
       "<table border=\"1\" class=\"dataframe\">\n",
       "  <thead>\n",
       "    <tr style=\"text-align: right;\">\n",
       "      <th></th>\n",
       "    </tr>\n",
       "  </thead>\n",
       "  <tbody>\n",
       "  </tbody>\n",
       "</table>\n",
       "</div>"
      ],
      "text/plain": [
       "Empty DataFrame\n",
       "Columns: []\n",
       "Index: []"
      ]
     },
     "execution_count": 29,
     "metadata": {},
     "output_type": "execute_result"
    }
   ],
   "source": [
    "df"
   ]
  },
  {
   "cell_type": "code",
   "execution_count": null,
   "metadata": {},
   "outputs": [],
   "source": []
  }
 ],
 "metadata": {
  "hide_input": false,
  "kernelspec": {
   "display_name": "Python 3",
   "language": "python",
   "name": "python3"
  },
  "language_info": {
   "codemirror_mode": {
    "name": "ipython",
    "version": 3
   },
   "file_extension": ".py",
   "mimetype": "text/x-python",
   "name": "python",
   "nbconvert_exporter": "python",
   "pygments_lexer": "ipython3",
   "version": "3.8.10"
  },
  "toc": {
   "base_numbering": 1,
   "nav_menu": {},
   "number_sections": true,
   "sideBar": true,
   "skip_h1_title": false,
   "title_cell": "Table of Contents",
   "title_sidebar": "Contents",
   "toc_cell": false,
   "toc_position": {},
   "toc_section_display": true,
   "toc_window_display": false
  },
  "varInspector": {
   "cols": {
    "lenName": 16,
    "lenType": 16,
    "lenVar": 40
   },
   "kernels_config": {
    "python": {
     "delete_cmd_postfix": "",
     "delete_cmd_prefix": "del ",
     "library": "var_list.py",
     "varRefreshCmd": "print(var_dic_list())"
    },
    "r": {
     "delete_cmd_postfix": ") ",
     "delete_cmd_prefix": "rm(",
     "library": "var_list.r",
     "varRefreshCmd": "cat(var_dic_list()) "
    }
   },
   "types_to_exclude": [
    "module",
    "function",
    "builtin_function_or_method",
    "instance",
    "_Feature"
   ],
   "window_display": false
  }
 },
 "nbformat": 4,
 "nbformat_minor": 4
}
