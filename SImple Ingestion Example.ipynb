{
 "cells": [
  {
   "cell_type": "code",
   "execution_count": 1,
   "metadata": {
    "ExecuteTime": {
     "end_time": "2021-08-09T04:59:47.825691Z",
     "start_time": "2021-08-09T04:59:47.742732Z"
    }
   },
   "outputs": [],
   "source": [
    "import pandas as pd\n",
    "import sys\n",
    "import os\n",
    "sys.path.append(\"../\")\n",
    "sys.path.append(\"../..\")"
   ]
  },
  {
   "cell_type": "markdown",
   "metadata": {},
   "source": [
    "# Data Ingestion Initialization"
   ]
  },
  {
   "cell_type": "markdown",
   "metadata": {},
   "source": [
    "## DB Client "
   ]
  },
  {
   "cell_type": "code",
   "execution_count": 2,
   "metadata": {
    "ExecuteTime": {
     "end_time": "2021-08-09T05:06:13.784224Z",
     "start_time": "2021-08-09T05:06:13.777758Z"
    }
   },
   "outputs": [],
   "source": [
    "from KETIPreDataIngestion.KETI_setting import influx_setting_KETI as ins\n",
    "from KETIPreDataIngestion.data_influx import influx_Client\n",
    "\n",
    "DBClient = influx_Client.influxClient(ins)\n",
    "db_list = DBClient.get_DBList()"
   ]
  },
  {
   "cell_type": "code",
   "execution_count": 3,
   "metadata": {
    "scrolled": true
   },
   "outputs": [
    {
     "data": {
      "text/plain": [
       "['energy_solar',\n",
       " 'traffic_seoul_subway',\n",
       " 'traffic_seoul_bus',\n",
       " 'test',\n",
       " 'energy_electronic_power',\n",
       " 'test_bio_covid',\n",
       " 'test_indoor_high',\n",
       " 'air_indoor_중학교',\n",
       " 'traffic_seoul_bike',\n",
       " 'traffic_public_parking',\n",
       " 'energy_electricity_transaction',\n",
       " 'energy_fire_power',\n",
       " 'traffic_expressway',\n",
       " 'farm_inner_air',\n",
       " 'farm_outdoor_weather',\n",
       " 'farm_outdoor_weather_clean',\n",
       " 'farm_outdoor_air',\n",
       " 'farm_outdoor_air_clean',\n",
       " 'air_outdoor_에어코리아',\n",
       " 'energy_water_discharge',\n",
       " 'energy_wind_power',\n",
       " 'city_exhibition_entrance_status',\n",
       " 'bio_covid_vaccinations',\n",
       " 'air_indoor_유치원',\n",
       " 'air_indoor_요양원',\n",
       " 'air_indoor_아파트',\n",
       " 'air_indoor_도서관',\n",
       " 'air_indoor_경로당',\n",
       " 'air_indoor_초등학교',\n",
       " 'air_indoor_체육시설',\n",
       " 'air_indoor_어린이집',\n",
       " 'air_indoor_고등학교',\n",
       " 'air_outdoor',\n",
       " 'bio_covid_infected_world',\n",
       " 'bio_covid_infected_korea',\n",
       " 'bio_test_infected',\n",
       " 'keti_rtd',\n",
       " 'culture_subway',\n",
       " 'farm_strawberry_knu',\n",
       " 'weather_korean_nws',\n",
       " 'finance_korean_stock',\n",
       " 'farm_strawberry_gunwi',\n",
       " 'farm_strawberry_awon',\n",
       " 'farm_strawberry_jinan']"
      ]
     },
     "execution_count": 3,
     "metadata": {},
     "output_type": "execute_result"
    }
   ],
   "source": [
    "db_list"
   ]
  },
  {
   "cell_type": "markdown",
   "metadata": {},
   "source": [
    "## DB MS Frequency"
   ]
  },
  {
   "cell_type": "code",
   "execution_count": 10,
   "metadata": {},
   "outputs": [],
   "source": [
    "db_name ='air_indoor_중학교'\n",
    "ms_name = DBClient.measurement_list(db_name)[0]"
   ]
  },
  {
   "cell_type": "code",
   "execution_count": 11,
   "metadata": {},
   "outputs": [
    {
     "ename": "TypeError",
     "evalue": "__init__() missing 1 required positional argument: 'data'",
     "output_type": "error",
     "traceback": [
      "\u001b[1;31m---------------------------------------------------------------------------\u001b[0m",
      "\u001b[1;31mTypeError\u001b[0m                                 Traceback (most recent call last)",
      "\u001b[1;32m~\\AppData\\Local\\Temp/ipykernel_14136/289084430.py\u001b[0m in \u001b[0;36m<module>\u001b[1;34m\u001b[0m\n\u001b[1;32m----> 1\u001b[1;33m \u001b[0mfreq\u001b[0m \u001b[1;33m=\u001b[0m \u001b[0mDBClient\u001b[0m\u001b[1;33m.\u001b[0m\u001b[0mget_freq\u001b[0m\u001b[1;33m(\u001b[0m\u001b[0mdb_name\u001b[0m\u001b[1;33m,\u001b[0m \u001b[0mms_name\u001b[0m\u001b[1;33m)\u001b[0m\u001b[1;33m\u001b[0m\u001b[1;33m\u001b[0m\u001b[0m\n\u001b[0m\u001b[0;32m      2\u001b[0m \u001b[0mfreq\u001b[0m\u001b[1;33m\u001b[0m\u001b[1;33m\u001b[0m\u001b[0m\n",
      "\u001b[1;32m~\\Desktop\\KETI\\KETIPreDataIngestion\\..\\KETIPreDataIngestion\\data_influx\\influx_Client.py\u001b[0m in \u001b[0;36mget_freq\u001b[1;34m(self, db_name, ms_name)\u001b[0m\n\u001b[0;32m    247\u001b[0m         \u001b[0mdata\u001b[0m \u001b[1;33m=\u001b[0m \u001b[0mself\u001b[0m\u001b[1;33m.\u001b[0m\u001b[0mget_datafront_by_num\u001b[0m\u001b[1;33m(\u001b[0m\u001b[1;36m10\u001b[0m\u001b[1;33m,\u001b[0m\u001b[0mdb_name\u001b[0m\u001b[1;33m,\u001b[0m \u001b[0mms_name\u001b[0m\u001b[1;33m)\u001b[0m\u001b[1;33m\u001b[0m\u001b[1;33m\u001b[0m\u001b[0m\n\u001b[0;32m    248\u001b[0m         \u001b[1;32mfrom\u001b[0m \u001b[0mKETIPrePartialDataPreprocessing\u001b[0m\u001b[1;33m.\u001b[0m\u001b[0mdata_refine\u001b[0m\u001b[1;33m.\u001b[0m\u001b[0mfrequency\u001b[0m \u001b[1;32mimport\u001b[0m \u001b[0mFrequencyRefine\u001b[0m\u001b[1;33m\u001b[0m\u001b[1;33m\u001b[0m\u001b[0m\n\u001b[1;32m--> 249\u001b[1;33m         \u001b[1;32mreturn\u001b[0m \u001b[1;33m{\u001b[0m\u001b[1;34m\"freq\"\u001b[0m \u001b[1;33m:\u001b[0m \u001b[0mstr\u001b[0m\u001b[1;33m(\u001b[0m\u001b[0mFrequencyRefine\u001b[0m\u001b[1;33m(\u001b[0m\u001b[1;33m)\u001b[0m\u001b[1;33m.\u001b[0m\u001b[0mget_frequencyWith3DataPoints\u001b[0m\u001b[1;33m(\u001b[0m\u001b[0mdata\u001b[0m\u001b[1;33m)\u001b[0m\u001b[1;33m)\u001b[0m\u001b[1;33m}\u001b[0m\u001b[1;33m\u001b[0m\u001b[1;33m\u001b[0m\u001b[0m\n\u001b[0m\u001b[0;32m    250\u001b[0m \u001b[1;33m\u001b[0m\u001b[0m\n\u001b[0;32m    251\u001b[0m     \u001b[1;32mdef\u001b[0m \u001b[0mget_tagList\u001b[0m\u001b[1;33m(\u001b[0m\u001b[0mself\u001b[0m\u001b[1;33m,\u001b[0m \u001b[0mdb_name\u001b[0m\u001b[1;33m,\u001b[0m \u001b[0mms_name\u001b[0m\u001b[1;33m)\u001b[0m\u001b[1;33m:\u001b[0m\u001b[1;33m\u001b[0m\u001b[1;33m\u001b[0m\u001b[0m\n",
      "\u001b[1;31mTypeError\u001b[0m: __init__() missing 1 required positional argument: 'data'"
     ]
    }
   ],
   "source": [
    "freq = DBClient.get_freq(db_name, ms_name)\n",
    "freq"
   ]
  },
  {
   "cell_type": "markdown",
   "metadata": {},
   "source": [
    "## DB and Measurement name setting"
   ]
  },
  {
   "cell_type": "code",
   "execution_count": 12,
   "metadata": {},
   "outputs": [],
   "source": [
    "db_name  = 'finance_korean_stock'"
   ]
  },
  {
   "cell_type": "code",
   "execution_count": 13,
   "metadata": {},
   "outputs": [
    {
     "name": "stdout",
     "output_type": "stream",
     "text": [
      "stock\n"
     ]
    }
   ],
   "source": [
    "ms_list = DBClient.measurement_list(db_name)\n",
    "ms_name = ms_list[0]\n",
    "print(ms_name)"
   ]
  },
  {
   "cell_type": "markdown",
   "metadata": {},
   "source": [
    "# Data Ingestion Methods"
   ]
  },
  {
   "cell_type": "markdown",
   "metadata": {},
   "source": [
    "## pure data ingestion"
   ]
  },
  {
   "cell_type": "markdown",
   "metadata": {},
   "source": [
    "### Ingest Full Data"
   ]
  },
  {
   "cell_type": "code",
   "execution_count": 14,
   "metadata": {},
   "outputs": [
    {
     "name": "stdout",
     "output_type": "stream",
     "text": [
      "finance_korean_stock stock\n"
     ]
    }
   ],
   "source": [
    "print(db_name, ms_name)"
   ]
  },
  {
   "cell_type": "code",
   "execution_count": 15,
   "metadata": {
    "scrolled": true
   },
   "outputs": [
    {
     "data": {
      "text/html": [
       "<div>\n",
       "<style scoped>\n",
       "    .dataframe tbody tr th:only-of-type {\n",
       "        vertical-align: middle;\n",
       "    }\n",
       "\n",
       "    .dataframe tbody tr th {\n",
       "        vertical-align: top;\n",
       "    }\n",
       "\n",
       "    .dataframe thead th {\n",
       "        text-align: right;\n",
       "    }\n",
       "</style>\n",
       "<table border=\"1\" class=\"dataframe\">\n",
       "  <thead>\n",
       "    <tr style=\"text-align: right;\">\n",
       "      <th></th>\n",
       "      <th>adj_close_value</th>\n",
       "      <th>close_value</th>\n",
       "      <th>company</th>\n",
       "      <th>country</th>\n",
       "      <th>exchange</th>\n",
       "      <th>high_value</th>\n",
       "      <th>industry</th>\n",
       "      <th>low_value</th>\n",
       "      <th>open_value</th>\n",
       "      <th>ticker</th>\n",
       "      <th>volume_value</th>\n",
       "    </tr>\n",
       "    <tr>\n",
       "      <th>time</th>\n",
       "      <th></th>\n",
       "      <th></th>\n",
       "      <th></th>\n",
       "      <th></th>\n",
       "      <th></th>\n",
       "      <th></th>\n",
       "      <th></th>\n",
       "      <th></th>\n",
       "      <th></th>\n",
       "      <th></th>\n",
       "      <th></th>\n",
       "    </tr>\n",
       "  </thead>\n",
       "  <tbody>\n",
       "    <tr>\n",
       "      <th>2021-12-01 00:00:00+00:00</th>\n",
       "      <td>804.000000</td>\n",
       "      <td>804.000000</td>\n",
       "      <td>ASML 홀딩 NV ADR</td>\n",
       "      <td>US</td>\n",
       "      <td>NASDAQ</td>\n",
       "      <td>832.679993</td>\n",
       "      <td>반도체 및 반도체 장비</td>\n",
       "      <td>802.440002</td>\n",
       "      <td>812.559998</td>\n",
       "      <td>ASML</td>\n",
       "      <td>1200924.0</td>\n",
       "    </tr>\n",
       "    <tr>\n",
       "      <th>2021-12-02 00:00:00+00:00</th>\n",
       "      <td>2330.000000</td>\n",
       "      <td>2330.000000</td>\n",
       "      <td>성창기업지주</td>\n",
       "      <td>KR</td>\n",
       "      <td>KOSPI</td>\n",
       "      <td>2375.000000</td>\n",
       "      <td>종이와목재</td>\n",
       "      <td>2175.000000</td>\n",
       "      <td>2205.000000</td>\n",
       "      <td>000180.KS</td>\n",
       "      <td>262641.0</td>\n",
       "    </tr>\n",
       "    <tr>\n",
       "      <th>2021-12-16 00:00:00+00:00</th>\n",
       "      <td>755.000000</td>\n",
       "      <td>755.000000</td>\n",
       "      <td>ASML 홀딩 NV ADR</td>\n",
       "      <td>US</td>\n",
       "      <td>NASDAQ</td>\n",
       "      <td>799.840027</td>\n",
       "      <td>반도체 및 반도체 장비</td>\n",
       "      <td>753.618408</td>\n",
       "      <td>799.000000</td>\n",
       "      <td>ASML</td>\n",
       "      <td>1006869.0</td>\n",
       "    </tr>\n",
       "    <tr>\n",
       "      <th>2021-12-17 00:00:00+00:00</th>\n",
       "      <td>85.900002</td>\n",
       "      <td>85.900002</td>\n",
       "      <td>노바티스 AG ADR</td>\n",
       "      <td>US</td>\n",
       "      <td>NYSE</td>\n",
       "      <td>86.629997</td>\n",
       "      <td>제약</td>\n",
       "      <td>85.610001</td>\n",
       "      <td>86.300003</td>\n",
       "      <td>NVS</td>\n",
       "      <td>5301561.0</td>\n",
       "    </tr>\n",
       "    <tr>\n",
       "      <th>2021-12-20 00:00:00+00:00</th>\n",
       "      <td>5310.000000</td>\n",
       "      <td>5310.000000</td>\n",
       "      <td>AJ네트웍스</td>\n",
       "      <td>KR</td>\n",
       "      <td>KOSPI</td>\n",
       "      <td>5470.000000</td>\n",
       "      <td>도로와철도운송</td>\n",
       "      <td>5280.000000</td>\n",
       "      <td>5410.000000</td>\n",
       "      <td>095570.KS</td>\n",
       "      <td>67345.0</td>\n",
       "    </tr>\n",
       "  </tbody>\n",
       "</table>\n",
       "</div>"
      ],
      "text/plain": [
       "                           adj_close_value  close_value         company  \\\n",
       "time                                                                      \n",
       "2021-12-01 00:00:00+00:00       804.000000   804.000000  ASML 홀딩 NV ADR   \n",
       "2021-12-02 00:00:00+00:00      2330.000000  2330.000000          성창기업지주   \n",
       "2021-12-16 00:00:00+00:00       755.000000   755.000000  ASML 홀딩 NV ADR   \n",
       "2021-12-17 00:00:00+00:00        85.900002    85.900002     노바티스 AG ADR   \n",
       "2021-12-20 00:00:00+00:00      5310.000000  5310.000000          AJ네트웍스   \n",
       "\n",
       "                          country exchange   high_value      industry  \\\n",
       "time                                                                    \n",
       "2021-12-01 00:00:00+00:00      US   NASDAQ   832.679993  반도체 및 반도체 장비   \n",
       "2021-12-02 00:00:00+00:00      KR    KOSPI  2375.000000         종이와목재   \n",
       "2021-12-16 00:00:00+00:00      US   NASDAQ   799.840027  반도체 및 반도체 장비   \n",
       "2021-12-17 00:00:00+00:00      US     NYSE    86.629997            제약   \n",
       "2021-12-20 00:00:00+00:00      KR    KOSPI  5470.000000       도로와철도운송   \n",
       "\n",
       "                             low_value   open_value     ticker  volume_value  \n",
       "time                                                                          \n",
       "2021-12-01 00:00:00+00:00   802.440002   812.559998       ASML     1200924.0  \n",
       "2021-12-02 00:00:00+00:00  2175.000000  2205.000000  000180.KS      262641.0  \n",
       "2021-12-16 00:00:00+00:00   753.618408   799.000000       ASML     1006869.0  \n",
       "2021-12-17 00:00:00+00:00    85.610001    86.300003        NVS     5301561.0  \n",
       "2021-12-20 00:00:00+00:00  5280.000000  5410.000000  095570.KS       67345.0  "
      ]
     },
     "execution_count": 15,
     "metadata": {},
     "output_type": "execute_result"
    }
   ],
   "source": [
    "feature_list = DBClient.get_fieldList(db_name, ms_name)\n",
    "number = \"100000\"\n",
    "data = DBClient.get_datafront_by_num(number, db_name, ms_name)\n",
    "data.head()"
   ]
  },
  {
   "cell_type": "code",
   "execution_count": 16,
   "metadata": {},
   "outputs": [
    {
     "name": "stdout",
     "output_type": "stream",
     "text": [
      "                      adj_close_value  close_value         company country  \\\n",
      "time                                                                         \n",
      "2021-12-01T00:00:00Z            804.0        804.0  ASML 홀딩 NV ADR      US   \n",
      "\n",
      "                     exchange  high_value      industry   low_value  \\\n",
      "time                                                                  \n",
      "2021-12-01T00:00:00Z   NASDAQ  832.679993  반도체 및 반도체 장비  802.440002   \n",
      "\n",
      "                      open_value ticker  volume_value  \n",
      "time                                                   \n",
      "2021-12-01T00:00:00Z  812.559998   ASML     1200924.0  \n",
      "                      adj_close_value  close_value company country exchange  \\\n",
      "time                                                                          \n",
      "2021-12-20T00:00:00Z          34800.0      34800.0   휠라홀딩스      KR    KOSPI   \n",
      "\n",
      "                      high_value      industry  low_value  open_value  \\\n",
      "time                                                                    \n",
      "2021-12-20T00:00:00Z     35850.0  섬유,의류,신발,호화품    34750.0     35450.0   \n",
      "\n",
      "                         ticker  volume_value  \n",
      "time                                           \n",
      "2021-12-20T00:00:00Z  081660.KS      354796.0  \n",
      "2021-12-01T00:00:00Z 2021-12-20T00:00:00Z\n"
     ]
    }
   ],
   "source": [
    "first = DBClient.get_first_time(db_name, ms_name)\n",
    "last = DBClient.get_last_time(db_name, ms_name)\n",
    "print(first, last)"
   ]
  },
  {
   "cell_type": "code",
   "execution_count": 17,
   "metadata": {},
   "outputs": [],
   "source": [
    "full_data = DBClient.get_data(db_name, ms_name)"
   ]
  },
  {
   "cell_type": "code",
   "execution_count": 18,
   "metadata": {},
   "outputs": [
    {
     "name": "stdout",
     "output_type": "stream",
     "text": [
      "                           adj_close_value  close_value         company  \\\n",
      "time                                                                      \n",
      "2021-12-01 00:00:00+00:00       804.000000   804.000000  ASML 홀딩 NV ADR   \n",
      "2021-12-02 00:00:00+00:00      2330.000000  2330.000000          성창기업지주   \n",
      "2021-12-16 00:00:00+00:00       755.000000   755.000000  ASML 홀딩 NV ADR   \n",
      "2021-12-17 00:00:00+00:00        85.900002    85.900002     노바티스 AG ADR   \n",
      "\n",
      "                          country exchange   high_value      industry  \\\n",
      "time                                                                    \n",
      "2021-12-01 00:00:00+00:00      US   NASDAQ   832.679993  반도체 및 반도체 장비   \n",
      "2021-12-02 00:00:00+00:00      KR    KOSPI  2375.000000         종이와목재   \n",
      "2021-12-16 00:00:00+00:00      US   NASDAQ   799.840027  반도체 및 반도체 장비   \n",
      "2021-12-17 00:00:00+00:00      US     NYSE    86.629997            제약   \n",
      "\n",
      "                             low_value   open_value     ticker  volume_value  \n",
      "time                                                                          \n",
      "2021-12-01 00:00:00+00:00   802.440002   812.559998       ASML     1200924.0  \n",
      "2021-12-02 00:00:00+00:00  2175.000000  2205.000000  000180.KS      262641.0  \n",
      "2021-12-16 00:00:00+00:00   753.618408   799.000000       ASML     1006869.0  \n",
      "2021-12-17 00:00:00+00:00    85.610001    86.300003        NVS     5301561.0  \n",
      "                           adj_close_value  close_value         company  \\\n",
      "time                                                                      \n",
      "2021-12-01 00:00:00+00:00       804.000000   804.000000  ASML 홀딩 NV ADR   \n",
      "2021-12-02 00:00:00+00:00      2330.000000  2330.000000          성창기업지주   \n",
      "2021-12-16 00:00:00+00:00       755.000000   755.000000  ASML 홀딩 NV ADR   \n",
      "2021-12-17 00:00:00+00:00        85.900002    85.900002     노바티스 AG ADR   \n",
      "\n",
      "                          country exchange   high_value      industry  \\\n",
      "time                                                                    \n",
      "2021-12-01 00:00:00+00:00      US   NASDAQ   832.679993  반도체 및 반도체 장비   \n",
      "2021-12-02 00:00:00+00:00      KR    KOSPI  2375.000000         종이와목재   \n",
      "2021-12-16 00:00:00+00:00      US   NASDAQ   799.840027  반도체 및 반도체 장비   \n",
      "2021-12-17 00:00:00+00:00      US     NYSE    86.629997            제약   \n",
      "\n",
      "                             low_value   open_value     ticker  volume_value  \n",
      "time                                                                          \n",
      "2021-12-01 00:00:00+00:00   802.440002   812.559998       ASML     1200924.0  \n",
      "2021-12-02 00:00:00+00:00  2175.000000  2205.000000  000180.KS      262641.0  \n",
      "2021-12-16 00:00:00+00:00   753.618408   799.000000       ASML     1006869.0  \n",
      "2021-12-17 00:00:00+00:00    85.610001    86.300003        NVS     5301561.0  \n"
     ]
    }
   ],
   "source": [
    "query_end_time = last\n",
    "query_start_time = first\n",
    "bind_params = {'end_time':query_end_time, 'start_time': query_start_time}\n",
    "time_data = DBClient.get_data_by_time(bind_params, db_name, ms_name)\n",
    "print(time_data.head())\n",
    "print(time_data.tail())"
   ]
  },
  {
   "cell_type": "code",
   "execution_count": 19,
   "metadata": {},
   "outputs": [
    {
     "name": "stdout",
     "output_type": "stream",
     "text": [
      "                           adj_close_value  close_value         company  \\\n",
      "time                                                                      \n",
      "2021-12-01 00:00:00+00:00            804.0        804.0  ASML 홀딩 NV ADR   \n",
      "\n",
      "                          country exchange  high_value      industry  \\\n",
      "time                                                                   \n",
      "2021-12-01 00:00:00+00:00      US   NASDAQ  832.679993  반도체 및 반도체 장비   \n",
      "\n",
      "                            low_value  open_value ticker  volume_value  \n",
      "time                                                                    \n",
      "2021-12-01 00:00:00+00:00  802.440002  812.559998   ASML     1200924.0  \n",
      "                           adj_close_value  close_value         company  \\\n",
      "time                                                                      \n",
      "2021-12-01 00:00:00+00:00            804.0        804.0  ASML 홀딩 NV ADR   \n",
      "\n",
      "                          country exchange  high_value      industry  \\\n",
      "time                                                                   \n",
      "2021-12-01 00:00:00+00:00      US   NASDAQ  832.679993  반도체 및 반도체 장비   \n",
      "\n",
      "                            low_value  open_value ticker  volume_value  \n",
      "time                                                                    \n",
      "2021-12-01 00:00:00+00:00  802.440002  812.559998   ASML     1200924.0  \n"
     ]
    }
   ],
   "source": [
    "number=\"20\"\n",
    "time_data = DBClient.get_datafront_by_num(number, db_name, ms_name)\n",
    "print(time_data.head())\n",
    "print(time_data.tail())"
   ]
  },
  {
   "cell_type": "code",
   "execution_count": 20,
   "metadata": {},
   "outputs": [
    {
     "name": "stdout",
     "output_type": "stream",
     "text": [
      "                           adj_close_value  close_value         company  \\\n",
      "time                                                                      \n",
      "2021-12-16 00:00:00+00:00       755.000000   755.000000  ASML 홀딩 NV ADR   \n",
      "2021-12-17 00:00:00+00:00        85.900002    85.900002     노바티스 AG ADR   \n",
      "2021-12-20 00:00:00+00:00      5310.000000  5310.000000          AJ네트웍스   \n",
      "\n",
      "                          country exchange   high_value      industry  \\\n",
      "time                                                                    \n",
      "2021-12-16 00:00:00+00:00      US   NASDAQ   799.840027  반도체 및 반도체 장비   \n",
      "2021-12-17 00:00:00+00:00      US     NYSE    86.629997            제약   \n",
      "2021-12-20 00:00:00+00:00      KR    KOSPI  5470.000000       도로와철도운송   \n",
      "\n",
      "                             low_value   open_value     ticker  volume_value  \n",
      "time                                                                          \n",
      "2021-12-16 00:00:00+00:00   753.618408   799.000000       ASML     1006869.0  \n",
      "2021-12-17 00:00:00+00:00    85.610001    86.300003        NVS     5301561.0  \n",
      "2021-12-20 00:00:00+00:00  5280.000000  5410.000000  095570.KS       67345.0                              adj_close_value  close_value         company  \\\n",
      "time                                                                      \n",
      "2021-12-16 00:00:00+00:00       755.000000   755.000000  ASML 홀딩 NV ADR   \n",
      "2021-12-17 00:00:00+00:00        85.900002    85.900002     노바티스 AG ADR   \n",
      "2021-12-20 00:00:00+00:00      5310.000000  5310.000000          AJ네트웍스   \n",
      "\n",
      "                          country exchange   high_value      industry  \\\n",
      "time                                                                    \n",
      "2021-12-16 00:00:00+00:00      US   NASDAQ   799.840027  반도체 및 반도체 장비   \n",
      "2021-12-17 00:00:00+00:00      US     NYSE    86.629997            제약   \n",
      "2021-12-20 00:00:00+00:00      KR    KOSPI  5470.000000       도로와철도운송   \n",
      "\n",
      "                             low_value   open_value     ticker  volume_value  \n",
      "time                                                                          \n",
      "2021-12-16 00:00:00+00:00   753.618408   799.000000       ASML     1006869.0  \n",
      "2021-12-17 00:00:00+00:00    85.610001    86.300003        NVS     5301561.0  \n",
      "2021-12-20 00:00:00+00:00  5280.000000  5410.000000  095570.KS       67345.0  \n"
     ]
    }
   ],
   "source": [
    "days = 7 \n",
    "bind_params = {'end_time': query_end_time,\"days\":str(days)+\"d\"}\n",
    "day_data = DBClient.get_data_by_days(bind_params, db_name, ms_name)\n",
    "print(day_data.head(), day_data.tail())"
   ]
  },
  {
   "cell_type": "code",
   "execution_count": 21,
   "metadata": {},
   "outputs": [],
   "source": [
    "tag_list = DBClient.get_tagList(db_name, ms_name)"
   ]
  },
  {
   "cell_type": "code",
   "execution_count": 22,
   "metadata": {},
   "outputs": [
    {
     "data": {
      "text/plain": [
       "['company', 'country', 'exchange', 'industry', 'ticker']"
      ]
     },
     "execution_count": 22,
     "metadata": {},
     "output_type": "execute_result"
    }
   ],
   "source": [
    "tag_list"
   ]
  },
  {
   "cell_type": "code",
   "execution_count": 23,
   "metadata": {},
   "outputs": [
    {
     "name": "stdout",
     "output_type": "stream",
     "text": [
      "select * from \"stock\" WHERE \"company\"='컴캐스트'\n",
      "                           adj_close_value  close_value company country  \\\n",
      "time                                                                      \n",
      "2021-12-01 00:00:00+00:00        49.080002    49.080002    컴캐스트      US   \n",
      "2021-12-16 00:00:00+00:00        48.840000    48.840000    컴캐스트      US   \n",
      "2021-12-17 00:00:00+00:00        48.750000    48.750000    컴캐스트      US   \n",
      "\n",
      "                          exchange  high_value  industry  low_value  \\\n",
      "time                                                                  \n",
      "2021-12-01 00:00:00+00:00   NASDAQ   51.400002  미디어 및 출판  49.049999   \n",
      "2021-12-16 00:00:00+00:00   NASDAQ   49.520000  미디어 및 출판  48.419998   \n",
      "2021-12-17 00:00:00+00:00   NASDAQ   49.250000  미디어 및 출판  48.040001   \n",
      "\n",
      "                           open_value ticker  volume_value  \n",
      "time                                                        \n",
      "2021-12-01 00:00:00+00:00   51.134899  CMCSA    20791588.0  \n",
      "2021-12-16 00:00:00+00:00   48.549999  CMCSA    26752590.0  \n",
      "2021-12-17 00:00:00+00:00   48.209999  CMCSA    41501885.0  \n"
     ]
    }
   ],
   "source": [
    "tag_key = 'company'\n",
    "tag_value='컴캐스트'\n",
    "\n",
    "df = DBClient.get_TagGroupData(db_name, ms_name, tag_key, tag_value)"
   ]
  },
  {
   "cell_type": "code",
   "execution_count": null,
   "metadata": {},
   "outputs": [],
   "source": [
    "tag_distinct_value = DBClient.get_TagValue(db_name, ms_name, tag_key)"
   ]
  },
  {
   "cell_type": "code",
   "execution_count": null,
   "metadata": {},
   "outputs": [],
   "source": [
    "tag_distinct_value"
   ]
  },
  {
   "cell_type": "code",
   "execution_count": null,
   "metadata": {},
   "outputs": [],
   "source": []
  }
 ],
 "metadata": {
  "hide_input": false,
  "kernelspec": {
   "display_name": "Python 3 (ipykernel)",
   "language": "python",
   "name": "python3"
  },
  "language_info": {
   "codemirror_mode": {
    "name": "ipython",
    "version": 3
   },
   "file_extension": ".py",
   "mimetype": "text/x-python",
   "name": "python",
   "nbconvert_exporter": "python",
   "pygments_lexer": "ipython3",
   "version": "3.9.7"
  },
  "toc": {
   "base_numbering": 1,
   "nav_menu": {},
   "number_sections": true,
   "sideBar": true,
   "skip_h1_title": false,
   "title_cell": "Table of Contents",
   "title_sidebar": "Contents",
   "toc_cell": false,
   "toc_position": {},
   "toc_section_display": true,
   "toc_window_display": false
  },
  "varInspector": {
   "cols": {
    "lenName": 16,
    "lenType": 16,
    "lenVar": 40
   },
   "kernels_config": {
    "python": {
     "delete_cmd_postfix": "",
     "delete_cmd_prefix": "del ",
     "library": "var_list.py",
     "varRefreshCmd": "print(var_dic_list())"
    },
    "r": {
     "delete_cmd_postfix": ") ",
     "delete_cmd_prefix": "rm(",
     "library": "var_list.r",
     "varRefreshCmd": "cat(var_dic_list()) "
    }
   },
   "types_to_exclude": [
    "module",
    "function",
    "builtin_function_or_method",
    "instance",
    "_Feature"
   ],
   "window_display": false
  }
 },
 "nbformat": 4,
 "nbformat_minor": 4
}
