{
 "cells": [
  {
   "cell_type": "code",
   "execution_count": 1,
   "metadata": {
    "ExecuteTime": {
     "end_time": "2021-08-09T04:59:47.825691Z",
     "start_time": "2021-08-09T04:59:47.742732Z"
    }
   },
   "outputs": [],
   "source": [
    "import pandas as pd\n",
    "import sys\n",
    "import os\n",
    "sys.path.append(\"../\")\n",
    "sys.path.append(\"../..\")\n"
   ]
  },
  {
   "cell_type": "markdown",
   "metadata": {},
   "source": [
    "# Data Ingestion Initialization"
   ]
  },
  {
   "cell_type": "markdown",
   "metadata": {},
   "source": [
    "## DB Client "
   ]
  },
  {
   "cell_type": "code",
   "execution_count": 2,
   "metadata": {
    "ExecuteTime": {
     "end_time": "2021-08-09T05:06:13.784224Z",
     "start_time": "2021-08-09T05:06:13.777758Z"
    },
    "scrolled": true
   },
   "outputs": [],
   "source": [
    "from KETIPreDataIngestion.KETI_setting import influx_setting_KETI as ins\n",
    "from KETIPreDataIngestion.data_influx import influx_Client_v2 as influx_Client\n",
    "\n",
    "DBClient = influx_Client.influxClient(ins.CLUSTLocalInflux)\n",
    "db_list = DBClient.get_DBList()"
   ]
  },
  {
   "cell_type": "code",
   "execution_count": 3,
   "metadata": {
    "scrolled": false
   },
   "outputs": [
    {
     "data": {
      "text/plain": [
       "['bio_covid_vaccinations',\n",
       " 'traffic_seoul_subway',\n",
       " '_monitoring',\n",
       " 'city_exhibition_entrance_status',\n",
       " 'energy_electricity_transaction',\n",
       " 'energy_water_discharge',\n",
       " 'energy_wind_power',\n",
       " '_tasks',\n",
       " 'energy_fire_power',\n",
       " 'farm_strawberry_gunwi',\n",
       " 'energy_electronic_power',\n",
       " 'farm_strawberry_jinan',\n",
       " 'energy_solar',\n",
       " 'traffic_expressway',\n",
       " 'farm_strawberry_knu',\n",
       " 'traffic_public_parking',\n",
       " 'farm_strawberry_awon',\n",
       " 'traffic_seoul_bus',\n",
       " 'traffic_seoul_bike',\n",
       " 'bio_covid_infected_world',\n",
       " 'bio_covid_infected_korea',\n",
       " 'culture_subway']"
      ]
     },
     "execution_count": 3,
     "metadata": {},
     "output_type": "execute_result"
    }
   ],
   "source": [
    "db_list"
   ]
  },
  {
   "cell_type": "markdown",
   "metadata": {},
   "source": [
    "## DB MS Frequency"
   ]
  },
  {
   "cell_type": "code",
   "execution_count": 4,
   "metadata": {},
   "outputs": [
    {
     "data": {
      "text/plain": [
       "'argentina'"
      ]
     },
     "execution_count": 4,
     "metadata": {},
     "output_type": "execute_result"
    }
   ],
   "source": [
    "db_name ='bio_covid_infected_world'\n",
    "ms_name = DBClient.measurement_list(db_name)[0]\n",
    "ms_name"
   ]
  },
  {
   "cell_type": "code",
   "execution_count": 5,
   "metadata": {},
   "outputs": [
    {
     "name": "stdout",
     "output_type": "stream",
     "text": [
      "<class 'dict'>\n"
     ]
    }
   ],
   "source": [
    "freq = DBClient.get_freq(db_name, ms_name)\n",
    "freq\n",
    "print(type(freq))"
   ]
  },
  {
   "cell_type": "markdown",
   "metadata": {},
   "source": [
    "## DB and Measurement name setting"
   ]
  },
  {
   "cell_type": "code",
   "execution_count": 6,
   "metadata": {},
   "outputs": [],
   "source": [
    "db_name  = 'bio_covid_infected_world'"
   ]
  },
  {
   "cell_type": "code",
   "execution_count": 7,
   "metadata": {},
   "outputs": [
    {
     "name": "stdout",
     "output_type": "stream",
     "text": [
      "argentina\n"
     ]
    }
   ],
   "source": [
    "ms_list = DBClient.measurement_list(db_name)\n",
    "ms_name = ms_list[0]\n",
    "print(ms_name)"
   ]
  },
  {
   "cell_type": "markdown",
   "metadata": {},
   "source": [
    "# Data Ingestion Methods"
   ]
  },
  {
   "cell_type": "markdown",
   "metadata": {},
   "source": [
    "## pure data ingestion"
   ]
  },
  {
   "cell_type": "markdown",
   "metadata": {},
   "source": [
    "### Ingest Full Data"
   ]
  },
  {
   "cell_type": "code",
   "execution_count": 8,
   "metadata": {},
   "outputs": [
    {
     "name": "stdout",
     "output_type": "stream",
     "text": [
      "bio_covid_infected_world argentina\n"
     ]
    }
   ],
   "source": [
    "print(db_name, ms_name)"
   ]
  },
  {
   "cell_type": "code",
   "execution_count": 9,
   "metadata": {
    "scrolled": true
   },
   "outputs": [
    {
     "data": {
      "text/html": [
       "<div>\n",
       "<style scoped>\n",
       "    .dataframe tbody tr th:only-of-type {\n",
       "        vertical-align: middle;\n",
       "    }\n",
       "\n",
       "    .dataframe tbody tr th {\n",
       "        vertical-align: top;\n",
       "    }\n",
       "\n",
       "    .dataframe thead th {\n",
       "        text-align: right;\n",
       "    }\n",
       "</style>\n",
       "<table border=\"1\" class=\"dataframe\">\n",
       "  <thead>\n",
       "    <tr style=\"text-align: right;\">\n",
       "      <th></th>\n",
       "      <th>result</th>\n",
       "      <th>table</th>\n",
       "      <th>_time</th>\n",
       "      <th>confirmed</th>\n",
       "      <th>deaths</th>\n",
       "    </tr>\n",
       "  </thead>\n",
       "  <tbody>\n",
       "    <tr>\n",
       "      <th>0</th>\n",
       "      <td>_result</td>\n",
       "      <td>0</td>\n",
       "      <td>2020-01-22 00:00:00+00:00</td>\n",
       "      <td>0</td>\n",
       "      <td>0</td>\n",
       "    </tr>\n",
       "    <tr>\n",
       "      <th>1</th>\n",
       "      <td>_result</td>\n",
       "      <td>0</td>\n",
       "      <td>2020-01-23 00:00:00+00:00</td>\n",
       "      <td>0</td>\n",
       "      <td>0</td>\n",
       "    </tr>\n",
       "    <tr>\n",
       "      <th>2</th>\n",
       "      <td>_result</td>\n",
       "      <td>0</td>\n",
       "      <td>2020-01-24 00:00:00+00:00</td>\n",
       "      <td>0</td>\n",
       "      <td>0</td>\n",
       "    </tr>\n",
       "    <tr>\n",
       "      <th>3</th>\n",
       "      <td>_result</td>\n",
       "      <td>0</td>\n",
       "      <td>2020-01-25 00:00:00+00:00</td>\n",
       "      <td>0</td>\n",
       "      <td>0</td>\n",
       "    </tr>\n",
       "    <tr>\n",
       "      <th>4</th>\n",
       "      <td>_result</td>\n",
       "      <td>0</td>\n",
       "      <td>2020-01-26 00:00:00+00:00</td>\n",
       "      <td>0</td>\n",
       "      <td>0</td>\n",
       "    </tr>\n",
       "  </tbody>\n",
       "</table>\n",
       "</div>"
      ],
      "text/plain": [
       "    result table                     _time confirmed deaths\n",
       "0  _result     0 2020-01-22 00:00:00+00:00         0      0\n",
       "1  _result     0 2020-01-23 00:00:00+00:00         0      0\n",
       "2  _result     0 2020-01-24 00:00:00+00:00         0      0\n",
       "3  _result     0 2020-01-25 00:00:00+00:00         0      0\n",
       "4  _result     0 2020-01-26 00:00:00+00:00         0      0"
      ]
     },
     "execution_count": 9,
     "metadata": {},
     "output_type": "execute_result"
    }
   ],
   "source": [
    "feature_list = DBClient.get_fieldList(db_name, ms_name)\n",
    "number = \"100000\"\n",
    "data = DBClient.get_datafront_by_num(number, db_name, ms_name)\n",
    "data.head()"
   ]
  },
  {
   "cell_type": "code",
   "execution_count": 10,
   "metadata": {},
   "outputs": [
    {
     "name": "stdout",
     "output_type": "stream",
     "text": [
      "2020-01-22T00:00:00Z 2021-11-07T00:00:00Z\n",
      "<class 'str'>\n"
     ]
    }
   ],
   "source": [
    "first = DBClient.get_first_time(db_name, ms_name)\n",
    "last = DBClient.get_last_time(db_name, ms_name)\n",
    "print(first, last)\n",
    "print(type(last))"
   ]
  },
  {
   "cell_type": "code",
   "execution_count": 11,
   "metadata": {},
   "outputs": [],
   "source": [
    "full_data = DBClient.get_data(db_name, ms_name)"
   ]
  },
  {
   "cell_type": "code",
   "execution_count": 12,
   "metadata": {},
   "outputs": [
    {
     "name": "stdout",
     "output_type": "stream",
     "text": [
      "    result table                     _time confirmed deaths\n",
      "0  _result     0 2020-01-22 00:00:00+00:00         0      0\n",
      "1  _result     0 2020-01-23 00:00:00+00:00         0      0\n",
      "2  _result     0 2020-01-24 00:00:00+00:00         0      0\n",
      "3  _result     0 2020-01-25 00:00:00+00:00         0      0\n",
      "4  _result     0 2020-01-26 00:00:00+00:00         0      0\n",
      "      result table                     _time confirmed  deaths\n",
      "650  _result     0 2021-11-02 00:00:00+00:00   5291285  116010\n",
      "651  _result     0 2021-11-03 00:00:00+00:00   5292549  116029\n",
      "652  _result     0 2021-11-04 00:00:00+00:00   5293989  116055\n",
      "653  _result     0 2021-11-05 00:00:00+00:00   5295260  116083\n",
      "654  _result     0 2021-11-06 00:00:00+00:00   5296188  116091\n"
     ]
    }
   ],
   "source": [
    "query_end_time = last\n",
    "query_start_time = first\n",
    "bind_params = {'end_time':query_end_time, 'start_time': query_start_time}\n",
    "time_data = DBClient.get_data_by_time(bind_params, db_name, ms_name)\n",
    "print(time_data.head())\n",
    "print(time_data.tail())"
   ]
  },
  {
   "cell_type": "code",
   "execution_count": 13,
   "metadata": {},
   "outputs": [
    {
     "name": "stdout",
     "output_type": "stream",
     "text": [
      "    result table                     _time confirmed deaths\n",
      "0  _result     0 2020-01-22 00:00:00+00:00         0      0\n",
      "1  _result     0 2020-01-23 00:00:00+00:00         0      0\n",
      "2  _result     0 2020-01-24 00:00:00+00:00         0      0\n",
      "3  _result     0 2020-01-25 00:00:00+00:00         0      0\n",
      "4  _result     0 2020-01-26 00:00:00+00:00         0      0\n",
      "     result table                     _time confirmed deaths\n",
      "15  _result     0 2020-02-06 00:00:00+00:00         0      0\n",
      "16  _result     0 2020-02-07 00:00:00+00:00         0      0\n",
      "17  _result     0 2020-02-08 00:00:00+00:00         0      0\n",
      "18  _result     0 2020-02-09 00:00:00+00:00         0      0\n",
      "19  _result     0 2020-02-10 00:00:00+00:00         0      0\n"
     ]
    }
   ],
   "source": [
    "number=\"20\"\n",
    "time_data = DBClient.get_datafront_by_num(number, db_name, ms_name)\n",
    "print(time_data.head())\n",
    "print(time_data.tail())"
   ]
  },
  {
   "cell_type": "code",
   "execution_count": 14,
   "metadata": {},
   "outputs": [
    {
     "name": "stdout",
     "output_type": "stream",
     "text": [
      "    result table                     _time confirmed  deaths\n",
      "0  _result     0 2021-10-31 00:00:00+00:00   5288807  115950\n",
      "1  _result     0 2021-11-01 00:00:00+00:00   5289945  115989\n",
      "2  _result     0 2021-11-02 00:00:00+00:00   5291285  116010\n",
      "3  _result     0 2021-11-03 00:00:00+00:00   5292549  116029\n",
      "4  _result     0 2021-11-04 00:00:00+00:00   5293989  116055     result table                     _time confirmed  deaths\n",
      "3  _result     0 2021-11-03 00:00:00+00:00   5292549  116029\n",
      "4  _result     0 2021-11-04 00:00:00+00:00   5293989  116055\n",
      "5  _result     0 2021-11-05 00:00:00+00:00   5295260  116083\n",
      "6  _result     0 2021-11-06 00:00:00+00:00   5296188  116091\n",
      "7  _result     0 2021-11-07 00:00:00+00:00   5296781  116104\n"
     ]
    }
   ],
   "source": [
    "days = 7 \n",
    "bind_params = {'start_time':query_start_time , 'end_time': query_end_time,\"days\":str(days)+\"d\"}\n",
    "day_data = DBClient.get_data_by_days(bind_params, db_name, ms_name)\n",
    "print(day_data.head(), day_data.tail())"
   ]
  },
  {
   "cell_type": "code",
   "execution_count": 15,
   "metadata": {},
   "outputs": [
    {
     "name": "stdout",
     "output_type": "stream",
     "text": [
      "bio_covid_infected_world\n",
      "argentina\n"
     ]
    }
   ],
   "source": [
    "tag_list = DBClient.get_tagList(db_name, ms_name)\n",
    "print(tag_list)\n",
    "print(db_name)\n",
    "print(ms_name)"
   ]
  },
  {
   "cell_type": "code",
   "execution_count": 16,
   "metadata": {},
   "outputs": [
    {
     "data": {
      "text/plain": [
       "['company', 'country', 'exchange', 'industry', 'ticker']"
      ]
     },
     "execution_count": 16,
     "metadata": {},
     "output_type": "execute_result"
    }
   ],
   "source": [
    "tag_list"
   ]
  },
  {
   "cell_type": "code",
   "execution_count": 17,
   "metadata": {},
   "outputs": [
    {
     "name": "stdout",
     "output_type": "stream",
     "text": [
      "select * from \"stock\" WHERE \"company\"='컴캐스트'\n",
      "                           adj_close_value  close_value company country  \\\n",
      "time                                                                      \n",
      "2021-12-01 00:00:00+00:00        49.080002    49.080002    컴캐스트      US   \n",
      "2021-12-16 00:00:00+00:00        48.840000    48.840000    컴캐스트      US   \n",
      "2021-12-17 00:00:00+00:00        48.750000    48.750000    컴캐스트      US   \n",
      "2021-12-20 00:00:00+00:00        48.400002    48.400002    컴캐스트      US   \n",
      "2021-12-21 00:00:00+00:00        48.860001    48.860001    컴캐스트      US   \n",
      "2021-12-22 00:00:00+00:00        49.029999    49.029999    컴캐스트      US   \n",
      "\n",
      "                          exchange  high_value  industry  low_value  \\\n",
      "time                                                                  \n",
      "2021-12-01 00:00:00+00:00   NASDAQ   51.400002  미디어 및 출판  49.049999   \n",
      "2021-12-16 00:00:00+00:00   NASDAQ   49.520000  미디어 및 출판  48.419998   \n",
      "2021-12-17 00:00:00+00:00   NASDAQ   49.250000  미디어 및 출판  48.040001   \n",
      "2021-12-20 00:00:00+00:00   NASDAQ   48.674999  미디어 및 출판  47.980000   \n",
      "2021-12-21 00:00:00+00:00   NASDAQ   49.314999  미디어 및 출판  48.400002   \n",
      "2021-12-22 00:00:00+00:00   NASDAQ   49.160000  미디어 및 출판  48.424999   \n",
      "\n",
      "                           open_value ticker  volume_value  \n",
      "time                                                        \n",
      "2021-12-01 00:00:00+00:00   51.134899  CMCSA    20791588.0  \n",
      "2021-12-16 00:00:00+00:00   48.549999  CMCSA    26752590.0  \n",
      "2021-12-17 00:00:00+00:00   48.209999  CMCSA    41501885.0  \n",
      "2021-12-20 00:00:00+00:00   48.250000  CMCSA    18991157.0  \n",
      "2021-12-21 00:00:00+00:00   48.630001  CMCSA    19714355.0  \n",
      "2021-12-22 00:00:00+00:00   48.779999  CMCSA    24115443.0  \n"
     ]
    }
   ],
   "source": [
    "tag_key = 'company'\n",
    "tag_value='컴캐스트'\n",
    "\n",
    "df = DBClient.get_TagGroupData(db_name, ms_name, tag_key, tag_value)"
   ]
  },
  {
   "cell_type": "code",
   "execution_count": 20,
   "metadata": {},
   "outputs": [
    {
     "name": "stdout",
     "output_type": "stream",
     "text": [
      "show tag values with key = company\n",
      "<class 'list'>\n"
     ]
    }
   ],
   "source": [
    "tag_distinct_value = DBClient.get_TagValue(db_name, ms_name, tag_key)\n",
    "print(type(tag_distinct_value))"
   ]
  },
  {
   "cell_type": "code",
   "execution_count": 19,
   "metadata": {},
   "outputs": [
    {
     "data": {
      "text/plain": [
       "['AJ네트웍스',\n",
       " 'ASML 홀딩 NV ADR',\n",
       " 'AT&T 5.625% 글로벌 노트',\n",
       " 'AT&T Inc',\n",
       " 'Abb Ltd ADR',\n",
       " 'Afya Ltd Class A',\n",
       " 'Alliance Resource Partners LP Unit',\n",
       " 'BGF리테일',\n",
       " 'BHP 그룹',\n",
       " 'BHP 그룹 PLC ADR',\n",
       " 'BP PLC ADR',\n",
       " 'Brookfield Business Partners LP Unit',\n",
       " 'CAE Inc',\n",
       " 'CBRE 그룹 Class A',\n",
       " 'CJ',\n",
       " 'CJ CGV',\n",
       " 'CJ대한통운',\n",
       " 'CJ제일제당',\n",
       " 'CMS 에너지',\n",
       " 'CSX Corp',\n",
       " 'CVS 헬스',\n",
       " 'D.R.호턴',\n",
       " 'DB',\n",
       " 'DB손해보험',\n",
       " 'DB하이텍',\n",
       " 'DL이앤씨',\n",
       " 'ESR켄달스퀘어리츠',\n",
       " 'Enterprise Products Partners LP Unit',\n",
       " 'F&F',\n",
       " 'GKL',\n",
       " 'GS',\n",
       " 'GSX 테크에듀 ADR Class A',\n",
       " 'GS건설',\n",
       " 'GS글로벌',\n",
       " 'GS리테일',\n",
       " 'HCA 헬스케어',\n",
       " 'HMM',\n",
       " 'IPG 포터닉스',\n",
       " 'JD닷컴 ADR',\n",
       " 'KB금융',\n",
       " 'KCC',\n",
       " 'KG동부제철',\n",
       " 'KG케미칼',\n",
       " 'KODEX 200',\n",
       " 'KODEX 200선물인버스2X',\n",
       " 'KODEX 단기채권',\n",
       " 'KODEX 삼성그룹',\n",
       " 'KSS해운',\n",
       " 'KT',\n",
       " 'KT&G',\n",
       " 'KTcs',\n",
       " 'LG',\n",
       " 'LG디스플레이',\n",
       " 'LG상사',\n",
       " 'LG생활건강',\n",
       " 'LG생활건강우',\n",
       " 'LG유플러스',\n",
       " 'LG이노텍',\n",
       " 'LG전자',\n",
       " 'LG전자우',\n",
       " 'LG헬로비전',\n",
       " 'LG화학',\n",
       " 'LIG넥스원',\n",
       " 'MPLX LP Unit',\n",
       " 'MYT 네덜란드 패어런트 ADR',\n",
       " 'NAVER',\n",
       " 'NHN',\n",
       " 'NICE',\n",
       " 'NIO ADR Class A',\n",
       " 'Nuveen Amt-Free Quality Municipal Income Fund',\n",
       " 'PC 커넥션',\n",
       " 'PCN 파이낸셜 서비스',\n",
       " 'POSCO',\n",
       " 'PPL Corp',\n",
       " 'S&P 글로벌',\n",
       " 'S-Oil',\n",
       " 'SBS',\n",
       " 'SGC에너지',\n",
       " 'SK',\n",
       " 'SK가스',\n",
       " 'SK디스커버리',\n",
       " 'SK디앤디',\n",
       " 'SK렌터카',\n",
       " 'SK바이오사이언스',\n",
       " 'SK바이오팜',\n",
       " 'SK아이이테크놀로지',\n",
       " 'SK이노베이션',\n",
       " 'SK텔레콤',\n",
       " 'SK하이닉스',\n",
       " 'STX',\n",
       " 'Sprott Physical Gold Trust',\n",
       " 'T-모바일 US',\n",
       " 'TAL 에듀케이션 그룹 ADR Class A',\n",
       " 'TC 에너지',\n",
       " 'TIGER 200',\n",
       " 'TJX 컴퍼니스',\n",
       " 'U.S. 뱅코프',\n",
       " 'UFP 인더스트리',\n",
       " 'UGI Crop',\n",
       " 'United Parcel Service Inc Class B',\n",
       " 'VF Corp',\n",
       " 'Vanguard Global ex-US Real Estate Index Fd;ETF',\n",
       " '가민',\n",
       " '강원랜드',\n",
       " '경동나비엔',\n",
       " '경인전자',\n",
       " '고려아연',\n",
       " '골드만삭스',\n",
       " '그랜드 캐넌 에듀케이션',\n",
       " '그레이엄 홀딩스 Class B',\n",
       " '그루포 아에로포르투아리오 센트로 노테 ADR Series B',\n",
       " '그루포 에어로포르투아리오 수레스테 ADR',\n",
       " '글로벌 인더스트리얼',\n",
       " '글로벌 페이먼츠',\n",
       " '금강공업',\n",
       " '금호석유',\n",
       " '기아',\n",
       " '기업은행',\n",
       " '깨끗한나라',\n",
       " '나이키 Class B',\n",
       " '내셔널 그리드 ADR',\n",
       " '내셔털 퓨얼 가스',\n",
       " '넥스젠 에너지',\n",
       " '넥스트에라 에너지',\n",
       " '넷마블',\n",
       " '노바티스 AG ADR',\n",
       " '노스톱 그루만',\n",
       " '노키아 Oyj ADR',\n",
       " '뉴 오리엔탈 에듀케이션 & 테크놀로지 그룹ADR',\n",
       " '뉴 포트리스 에너지 Class A',\n",
       " '뉴웰브랜즈',\n",
       " '다나허',\n",
       " '다우',\n",
       " '다우기술',\n",
       " '대교',\n",
       " '대교우B',\n",
       " '대덕',\n",
       " '대덕1우',\n",
       " '대림B&Co',\n",
       " '대림통상',\n",
       " '대성홀딩스',\n",
       " '대우건설',\n",
       " '대우조선해양',\n",
       " '대한항공',\n",
       " '대한해운',\n",
       " '더블유게임즈',\n",
       " '더존비즈온',\n",
       " '데니슨 마인스',\n",
       " '데시페라 파머수티컬스',\n",
       " '덴티움',\n",
       " '델타 에어라인스',\n",
       " '델테크놀로지 Class C',\n",
       " '도미니언 에너지',\n",
       " '도요타자동차 ADR',\n",
       " '동국제강',\n",
       " '동방',\n",
       " '동서',\n",
       " '동양고속',\n",
       " '동양생명',\n",
       " '동원시스템즈',\n",
       " '두산밥캣',\n",
       " '두산인프라코어',\n",
       " '두산중공업',\n",
       " '두산퓨얼셀',\n",
       " '듀크 에너지',\n",
       " '드림텍',\n",
       " '디아지오 ADR',\n",
       " '디어',\n",
       " '라르고 리소시스',\n",
       " '라이언에어 홀딩스 ADR',\n",
       " '락앤락',\n",
       " '레나 Class A',\n",
       " '레이테온 테크놀로지스',\n",
       " '로리어트 에듀케이션 Class A',\n",
       " '로스 스토어스',\n",
       " '로얄 더치 쉘 ADR Class A',\n",
       " '로우스 컴퍼니',\n",
       " '로쿠',\n",
       " '록히드 마틴',\n",
       " '롯데관광개발',\n",
       " '롯데리츠',\n",
       " '롯데쇼핑',\n",
       " '롯데지주',\n",
       " '롯데칠성',\n",
       " '롯데케미칼',\n",
       " '롯데하이마트',\n",
       " '루이지애니-퍼시픽',\n",
       " '룰루레몬 애슐레티카',\n",
       " '리바이 스트라우스 Class A',\n",
       " '리버티 브로드밴드 Series A',\n",
       " '리샹 에듀케이션 홀딩 ADR',\n",
       " '리오 틴토 ADR',\n",
       " '리타 파머수티컬스',\n",
       " '린드',\n",
       " '마쉬 앤 맥레넌 컴퍼니',\n",
       " '마스텍',\n",
       " '마이크로소프트',\n",
       " '마틴 마리에타 머터리얼스',\n",
       " '만도',\n",
       " '매리어트 인터내셔널',\n",
       " '매스코',\n",
       " '맥도날드',\n",
       " '맥커 아웃도어',\n",
       " '맥쿼리 인프라스트럭처',\n",
       " '맥쿼리인프라',\n",
       " '메드트로닉',\n",
       " '메리츠금융지주',\n",
       " '메리츠증권',\n",
       " '메리츠화재',\n",
       " '메케슨',\n",
       " '메틀러 톨레도 인터내셔널',\n",
       " '모간스탠리',\n",
       " '모나리자',\n",
       " '모나미',\n",
       " '모토로라 솔루션스',\n",
       " '모호크 인더스트리스',\n",
       " '몬델리즈 인터내셔널 Class A',\n",
       " '무디스',\n",
       " '무림P&P',\n",
       " '무학',\n",
       " '미들비',\n",
       " '미래에셋생명',\n",
       " '미래에셋증권',\n",
       " '바스타 플랫폼 Class A',\n",
       " '바이콤CBS Class B',\n",
       " '발레 SA ADR',\n",
       " '발칸 머티리얼스',\n",
       " '뱅크오브아메리카',\n",
       " '버라이존 커뮤니케이션스',\n",
       " '버크셔 해서웨이 Class A',\n",
       " '버크셔 해서웨이 Class B',\n",
       " '보잉',\n",
       " '보해양조',\n",
       " '볼',\n",
       " '부산가스',\n",
       " '부킹 홀딩스',\n",
       " '뷰티 헬스 Class A',\n",
       " '브로드리지 파이낸셜 솔루션스',\n",
       " '브로드컴',\n",
       " '브리티쉬 아메리칸 토바코 ADR',\n",
       " '블랙록',\n",
       " '블랙스톤 그룹',\n",
       " '블루프린트 메디슨스',\n",
       " '비상교육',\n",
       " '비자 Class A',\n",
       " '비케이탑스',\n",
       " '비트루',\n",
       " '사네아멘투 바지쿠 두 에스타두 ADR',\n",
       " '사우스웨스트 에어라인스',\n",
       " '삼성SDI',\n",
       " '삼성SDI우',\n",
       " '삼성물산',\n",
       " '삼성바이오로직스',\n",
       " '삼성생명',\n",
       " '삼성에스디에스',\n",
       " '삼성엔지니어링',\n",
       " '삼성전기',\n",
       " '삼성전자',\n",
       " '삼성전자우',\n",
       " '삼성중공업',\n",
       " '삼성증권',\n",
       " '삼성출판사',\n",
       " '삼성카드',\n",
       " '삼성화재',\n",
       " '삼양패키징',\n",
       " '삼익악기',\n",
       " '삼정펄프',\n",
       " '삼화콘덴서',\n",
       " '샘프라 에너지',\n",
       " '서던',\n",
       " '서울가스',\n",
       " '서흥',\n",
       " '선런',\n",
       " '성창기업지주',\n",
       " '세멘토스 파카스마요',\n",
       " '세방',\n",
       " '세아베스틸',\n",
       " '세우글로벌',\n",
       " '셀트리온',\n",
       " '셔윈-윌리엄즈',\n",
       " '소니 그룹 ADR',\n",
       " '솔라에지 테크놀로지스',\n",
       " '솔루스첨단소재',\n",
       " '솔루엠',\n",
       " '수지노 SA ADR',\n",
       " '쉐브론',\n",
       " '스타벅스',\n",
       " '스텔란티스',\n",
       " '스톤코 Class A',\n",
       " '슬럼버거',\n",
       " '시그나',\n",
       " '시멕스 SAB de CV ADR',\n",
       " '시스코',\n",
       " '시스코 시스템즈',\n",
       " '시어 Class A',\n",
       " '신도리코',\n",
       " '신세계',\n",
       " '신세계 I&C',\n",
       " '신세계인터내셔날',\n",
       " '신송홀딩스',\n",
       " '신한지주',\n",
       " '신흥',\n",
       " '쌍용C&E',\n",
       " '써모 피셔 사이언티픽',\n",
       " '쓰리엠',\n",
       " '씨아이테크',\n",
       " '씨에스윈드',\n",
       " '아남전자',\n",
       " '아레나 파마슈티컬스',\n",
       " '아레스 캐피털',\n",
       " '아르코 플랫폼',\n",
       " '아마존닷컴',\n",
       " '아메리칸 스테이츠 워터',\n",
       " '아메리칸 에어라인스 그룹',\n",
       " '아메리칸 워터 웍스',\n",
       " '아메리칸 타워',\n",
       " '아모레G',\n",
       " '아모레퍼시픽',\n",
       " '아세아제지',\n",
       " '아이마켓코리아',\n",
       " '아치 콜',\n",
       " '알루코',\n",
       " '알리바바 그룹 홀딩스 ADR',\n",
       " '알파 메탈러지컬 리소시스',\n",
       " '암베브 SA ADR',\n",
       " '암페놀',\n",
       " '애보트 레버러토리',\n",
       " '애스트 스페이스모바일 Class A',\n",
       " '애이콤 테크놀러지',\n",
       " '애트모스 에너지',\n",
       " '앤섬',\n",
       " '에너지 퓨얼스',\n",
       " '에넥스',\n",
       " '에머슨 일렉트릭',\n",
       " '에브비',\n",
       " '에센셀 유틸리티스',\n",
       " '에스디바이오센서',\n",
       " '에스원',\n",
       " '에스티 로더',\n",
       " '에어 프로덕츠 앤드 케미컬스',\n",
       " '에이버리 데니슨',\n",
       " '에이온',\n",
       " '에코랩',\n",
       " '엑셀론',\n",
       " '엑슨 모빌',\n",
       " '엔비디아',\n",
       " '엔씨소프트',\n",
       " '엔에스쇼핑',\n",
       " '엔에이치스팩19호',\n",
       " '엠씨넥스',\n",
       " '엠코',\n",
       " '영원무역',\n",
       " '영풍',\n",
       " '오뚜기',\n",
       " '오레일리 오토모티브',\n",
       " '오리엔트바이오',\n",
       " '오리온',\n",
       " '오링크 홀딩 AB ADR',\n",
       " '오픈도어 테크놀로지스 Class A',\n",
       " '우리금융지주',\n",
       " '우리종금',\n",
       " '웅진싱크빅',\n",
       " '원 가스',\n",
       " '월그린스 부츠 얼라이언스',\n",
       " '월마트',\n",
       " '월트 디즈니',\n",
       " '월풀',\n",
       " '웨스턴 디지털',\n",
       " '웨스트 프레이저 팀버',\n",
       " '웨이스트 매니지먼트',\n",
       " '웰스파고',\n",
       " '윌리엄스 컴퍼니즈',\n",
       " '유나이티드 에어라인스 홀딩스',\n",
       " '유니레버 ADR',\n",
       " '유니온 퍼시픽',\n",
       " '율촌화학',\n",
       " '이노션',\n",
       " '이마트',\n",
       " '이튼',\n",
       " '인터내셔널 플레이버스 & 프레그린스',\n",
       " '인터내셔털 페이퍼',\n",
       " '인텔',\n",
       " '인튜이티브 서지컬',\n",
       " '인페이즈 에너지',\n",
       " '일라이 릴리',\n",
       " '일진다이아',\n",
       " '일진디스플',\n",
       " '일진머티리얼즈',\n",
       " '제너럴 다이내믹스',\n",
       " '제너럴 모터스',\n",
       " '제너럴 일렉트릭',\n",
       " '제이알글로벌리츠',\n",
       " '제이콘텐트리',\n",
       " '제이콥스엔지니어링',\n",
       " '제이피모간체이스',\n",
       " '제일기획',\n",
       " '제임스 하디 인더스트리스 ADR',\n",
       " '제주항공',\n",
       " '존스 랭 라살',\n",
       " '존슨앤드존슨',\n",
       " '주연테크',\n",
       " '지누스',\n",
       " '지브라 테크놀로지스 Class A',\n",
       " '지역난방공사',\n",
       " '지투알',\n",
       " '진에어',\n",
       " '진원생명과학',\n",
       " '질로우 그룹 Class C',\n",
       " '차터 커뮤니케이션',\n",
       " '찰스 슈왑',\n",
       " '처브',\n",
       " '천일고속',\n",
       " '치포틀레 멕시칸 그릴',\n",
       " '카바나 Class A',\n",
       " '카에코',\n",
       " '카카오',\n",
       " '캐논 ADR',\n",
       " '캘리포니아 워터 서비스 그룹',\n",
       " '커네디언 내셔널 레일웨이',\n",
       " '컴캐스트',\n",
       " '케이씨씨글라스',\n",
       " '코닝',\n",
       " '코스트코 홀세일',\n",
       " '코웨이',\n",
       " '코인베이스 글로벌 Class A',\n",
       " '코카콜라',\n",
       " '코퍼래시온 어메리카 에어포츠',\n",
       " '콘솔 에너지',\n",
       " '콜게이트-팜올리브',\n",
       " '콴타 서비스',\n",
       " '쿠쿠홀딩스',\n",
       " '쿠쿠홈시스',\n",
       " '큐리그 닥터 페퍼',\n",
       " '큐어백 NV',\n",
       " '크라운 캐슬 인터내셔널',\n",
       " '크라운 홀딩스',\n",
       " '크래프트 하인즈',\n",
       " '크로거',\n",
       " '크로락스',\n",
       " '키다리스튜디오',\n",
       " '키움증권',\n",
       " '타겟',\n",
       " '타이완 반도체 메뉴펙처링 ADR',\n",
       " '테슬라',\n",
       " '테이크-투 인터랙티브 소프트웨어',\n",
       " '텔레다인 테크놀로지스',\n",
       " '텔레폰악티에볼라예트 LM 에릭슨 ADR Class B',\n",
       " '텔코웨어',\n",
       " '템퍼 실리 인터내셔널',\n",
       " '토탈에너지스 SE. ADR',\n",
       " '투심플 홀딩스 Class A',\n",
       " '트리니티 인더스트리스',\n",
       " '티웨이항공',\n",
       " '파이서브',\n",
       " '팬오션',\n",
       " '퍼블릭 서비스 앤터프라이즈',\n",
       " '퍼블릭 스토리지',\n",
       " '퍼스텍',\n",
       " '퍼스트 솔라',\n",
       " '퍼스트 하이스쿨 에듀케이션 그룹 ADR Class A',\n",
       " '퍼시스',\n",
       " '페덱스',\n",
       " '페이스북',\n",
       " '페이팔 홀딩스',\n",
       " '펠로튼 인터랙티브 Class A',\n",
       " '펩시코',\n",
       " '포스코강판',\n",
       " '포스코인터내셔널',\n",
       " '포스코케미칼',\n",
       " '포춘 브랜즈 홈 & 시큐리티',\n",
       " '폴',\n",
       " '폴라리스',\n",
       " '폴티 그룹',\n",
       " '푸르덴셀 ADR',\n",
       " '푸투 홀딩스 ADR',\n",
       " '풍산',\n",
       " '프로그레시브',\n",
       " '프로로지스',\n",
       " '프록터 & 겜블',\n",
       " '프리포트 맥모란',\n",
       " '플러그 파워',\n",
       " '피델리티 내셔널 인포메이션 서비스',\n",
       " '피바디 에너지',\n",
       " '필립 모리스 인터내셔널',\n",
       " '하나금융지주',\n",
       " '하나웰 인터내셔널',\n",
       " '하나투어',\n",
       " '하이량 에듀케이션 그룹 ADR',\n",
       " '하이브',\n",
       " '하이트론',\n",
       " '하이트진로',\n",
       " '하이트진로홀딩스',\n",
       " '한국가스공사',\n",
       " '한국공항',\n",
       " '한국금융지주',\n",
       " '한국자산신탁',\n",
       " '한국전력',\n",
       " '한국조선해양',\n",
       " '한국카본',\n",
       " '한국콜마',\n",
       " '한국타이어앤테크놀로지',\n",
       " '한국항공우주',\n",
       " '한미반도체',\n",
       " '한미사이언스',\n",
       " '한샘',\n",
       " '한솔제지',\n",
       " '한솔홀딩스',\n",
       " '한온시스템',\n",
       " '한일시멘트',\n",
       " '한일현대시멘트',\n",
       " '한전KPS',\n",
       " '한전기술',\n",
       " '한전산업',\n",
       " '한진',\n",
       " '한진칼',\n",
       " '한화',\n",
       " '한화생명',\n",
       " '한화솔루션',\n",
       " '한화시스템',\n",
       " '한화에어로스페이스',\n",
       " '헤즈브로',\n",
       " '현대건설',\n",
       " '현대그린푸드',\n",
       " '현대글로비스',\n",
       " '현대로템',\n",
       " '현대리바트',\n",
       " '현대모비스',\n",
       " '현대미포조선',\n",
       " '현대에너지솔루션',\n",
       " '현대오토에버',\n",
       " '현대위아',\n",
       " '현대제철',\n",
       " '현대중공업지주',\n",
       " '현대차',\n",
       " '현대차2우B',\n",
       " '현대차우',\n",
       " '현대코퍼레이션',\n",
       " '현대코퍼레이션홀딩스',\n",
       " '현대해상',\n",
       " '현대홈쇼핑',\n",
       " '호텔신라',\n",
       " '홈디포',\n",
       " '홍아해운',\n",
       " '화이자',\n",
       " '효성',\n",
       " '효성ITX',\n",
       " '효성티엔씨',\n",
       " '휠라홀딩스',\n",
       " '휴렛 패커드',\n",
       " '휴마나']"
      ]
     },
     "execution_count": 19,
     "metadata": {},
     "output_type": "execute_result"
    }
   ],
   "source": [
    "tag_distinct_value"
   ]
  },
  {
   "cell_type": "code",
   "execution_count": 21,
   "metadata": {},
   "outputs": [
    {
     "ename": "IndexError",
     "evalue": "index 1 is out of bounds for axis 0 with size 1",
     "output_type": "error",
     "traceback": [
      "\u001b[1;31m---------------------------------------------------------------------------\u001b[0m",
      "\u001b[1;31mIndexError\u001b[0m                                Traceback (most recent call last)",
      "\u001b[1;32m<ipython-input-21-502d467a937d>\u001b[0m in \u001b[0;36m<module>\u001b[1;34m\u001b[0m\n\u001b[1;32m----> 1\u001b[1;33m \u001b[0mtest\u001b[0m \u001b[1;33m=\u001b[0m \u001b[0mDBClient\u001b[0m\u001b[1;33m.\u001b[0m\u001b[0mget_freq\u001b[0m\u001b[1;33m(\u001b[0m\u001b[0mdb_name\u001b[0m\u001b[1;33m,\u001b[0m \u001b[0mms_name\u001b[0m\u001b[1;33m)\u001b[0m\u001b[1;33m\u001b[0m\u001b[1;33m\u001b[0m\u001b[0m\n\u001b[0m\u001b[0;32m      2\u001b[0m \u001b[0mprint\u001b[0m\u001b[1;33m(\u001b[0m\u001b[0mtest\u001b[0m\u001b[1;33m)\u001b[0m\u001b[1;33m\u001b[0m\u001b[1;33m\u001b[0m\u001b[0m\n",
      "\u001b[1;32m~\\Desktop\\CLUST_KETI\\KETIPreDataIngestion\\data_influx\\influx_Client.py\u001b[0m in \u001b[0;36mget_freq\u001b[1;34m(self, db_name, ms_name)\u001b[0m\n\u001b[0;32m    361\u001b[0m         \u001b[1;33m:\u001b[0m\u001b[0mtype\u001b[0m \u001b[0mdb_name\u001b[0m\u001b[1;33m:\u001b[0m \u001b[0mstring\u001b[0m\u001b[1;33m\u001b[0m\u001b[1;33m\u001b[0m\u001b[0m\n\u001b[0;32m    362\u001b[0m         \u001b[1;33m:\u001b[0m\u001b[0mparam\u001b[0m \u001b[0mms_name\u001b[0m\u001b[1;33m:\u001b[0m \u001b[0mdatabase\u001b[0m\u001b[1;33m\u001b[0m\u001b[1;33m\u001b[0m\u001b[0m\n\u001b[1;32m--> 363\u001b[1;33m         \u001b[1;33m:\u001b[0m\u001b[0mtype\u001b[0m \u001b[0mms_name\u001b[0m\u001b[1;33m:\u001b[0m \u001b[0mstring\u001b[0m\u001b[1;33m\u001b[0m\u001b[1;33m\u001b[0m\u001b[0m\n\u001b[0m\u001b[0;32m    364\u001b[0m \u001b[1;33m\u001b[0m\u001b[0m\n\u001b[0;32m    365\u001b[0m         \u001b[1;33m:\u001b[0m\u001b[1;32mreturn\u001b[0m\u001b[1;33m:\u001b[0m \u001b[0mdf\u001b[0m\u001b[1;33m,\u001b[0m \u001b[0mdata\u001b[0m \u001b[0msetting\u001b[0m\u001b[1;33m\u001b[0m\u001b[1;33m\u001b[0m\u001b[0m\n",
      "\u001b[1;32m~\\Desktop\\CLUST_KETI\\KETIPrePartialDataPreprocessing\\data_refine\\frequency.py\u001b[0m in \u001b[0;36mget_frequencyWith3DataPoints\u001b[1;34m(self, data)\u001b[0m\n\u001b[0;32m    116\u001b[0m \u001b[1;33m\u001b[0m\u001b[0m\n\u001b[0;32m    117\u001b[0m         \u001b[1;32mif\u001b[0m \u001b[1;32mnot\u001b[0m \u001b[0mestimated_freq\u001b[0m\u001b[1;33m:\u001b[0m\u001b[1;33m\u001b[0m\u001b[1;33m\u001b[0m\u001b[0m\n\u001b[1;32m--> 118\u001b[1;33m             \u001b[0mestimated_freq\u001b[0m \u001b[1;33m=\u001b[0m \u001b[1;33m(\u001b[0m\u001b[0mdata\u001b[0m\u001b[1;33m.\u001b[0m\u001b[0mindex\u001b[0m\u001b[1;33m[\u001b[0m\u001b[1;36m1\u001b[0m\u001b[1;33m]\u001b[0m\u001b[1;33m-\u001b[0m\u001b[0mdata\u001b[0m\u001b[1;33m.\u001b[0m\u001b[0mindex\u001b[0m\u001b[1;33m[\u001b[0m\u001b[1;36m0\u001b[0m\u001b[1;33m]\u001b[0m\u001b[1;33m)\u001b[0m\u001b[1;33m\u001b[0m\u001b[1;33m\u001b[0m\u001b[0m\n\u001b[0m\u001b[0;32m    119\u001b[0m \u001b[1;33m\u001b[0m\u001b[0m\n\u001b[0;32m    120\u001b[0m         \u001b[1;32mreturn\u001b[0m \u001b[0mestimated_freq\u001b[0m\u001b[1;33m\u001b[0m\u001b[1;33m\u001b[0m\u001b[0m\n",
      "\u001b[1;32mC:\\ProgramData\\Anaconda3\\lib\\site-packages\\pandas\\core\\indexes\\extension.py\u001b[0m in \u001b[0;36m__getitem__\u001b[1;34m(self, key)\u001b[0m\n\u001b[0;32m    236\u001b[0m \u001b[1;33m\u001b[0m\u001b[0m\n\u001b[0;32m    237\u001b[0m     \u001b[1;32mdef\u001b[0m \u001b[0m__getitem__\u001b[0m\u001b[1;33m(\u001b[0m\u001b[0mself\u001b[0m\u001b[1;33m,\u001b[0m \u001b[0mkey\u001b[0m\u001b[1;33m)\u001b[0m\u001b[1;33m:\u001b[0m\u001b[1;33m\u001b[0m\u001b[1;33m\u001b[0m\u001b[0m\n\u001b[1;32m--> 238\u001b[1;33m         \u001b[0mresult\u001b[0m \u001b[1;33m=\u001b[0m \u001b[0mself\u001b[0m\u001b[1;33m.\u001b[0m\u001b[0m_data\u001b[0m\u001b[1;33m[\u001b[0m\u001b[0mkey\u001b[0m\u001b[1;33m]\u001b[0m\u001b[1;33m\u001b[0m\u001b[1;33m\u001b[0m\u001b[0m\n\u001b[0m\u001b[0;32m    239\u001b[0m         \u001b[1;32mif\u001b[0m \u001b[0misinstance\u001b[0m\u001b[1;33m(\u001b[0m\u001b[0mresult\u001b[0m\u001b[1;33m,\u001b[0m \u001b[0mtype\u001b[0m\u001b[1;33m(\u001b[0m\u001b[0mself\u001b[0m\u001b[1;33m.\u001b[0m\u001b[0m_data\u001b[0m\u001b[1;33m)\u001b[0m\u001b[1;33m)\u001b[0m\u001b[1;33m:\u001b[0m\u001b[1;33m\u001b[0m\u001b[1;33m\u001b[0m\u001b[0m\n\u001b[0;32m    240\u001b[0m             \u001b[1;32mif\u001b[0m \u001b[0mresult\u001b[0m\u001b[1;33m.\u001b[0m\u001b[0mndim\u001b[0m \u001b[1;33m==\u001b[0m \u001b[1;36m1\u001b[0m\u001b[1;33m:\u001b[0m\u001b[1;33m\u001b[0m\u001b[1;33m\u001b[0m\u001b[0m\n",
      "\u001b[1;32mC:\\ProgramData\\Anaconda3\\lib\\site-packages\\pandas\\core\\arrays\\datetimelike.py\u001b[0m in \u001b[0;36m__getitem__\u001b[1;34m(self, key)\u001b[0m\n\u001b[0;32m    279\u001b[0m         \u001b[0monly\u001b[0m \u001b[0mhandle\u001b[0m \u001b[0mlist\u001b[0m\u001b[1;33m-\u001b[0m\u001b[0mlikes\u001b[0m\u001b[1;33m,\u001b[0m \u001b[0mslices\u001b[0m\u001b[1;33m,\u001b[0m \u001b[1;32mand\u001b[0m \u001b[0minteger\u001b[0m \u001b[0mscalars\u001b[0m\u001b[1;33m\u001b[0m\u001b[1;33m\u001b[0m\u001b[0m\n\u001b[0;32m    280\u001b[0m         \"\"\"\n\u001b[1;32m--> 281\u001b[1;33m         \u001b[0mresult\u001b[0m \u001b[1;33m=\u001b[0m \u001b[0msuper\u001b[0m\u001b[1;33m(\u001b[0m\u001b[1;33m)\u001b[0m\u001b[1;33m.\u001b[0m\u001b[0m__getitem__\u001b[0m\u001b[1;33m(\u001b[0m\u001b[0mkey\u001b[0m\u001b[1;33m)\u001b[0m\u001b[1;33m\u001b[0m\u001b[1;33m\u001b[0m\u001b[0m\n\u001b[0m\u001b[0;32m    282\u001b[0m         \u001b[1;32mif\u001b[0m \u001b[0mlib\u001b[0m\u001b[1;33m.\u001b[0m\u001b[0mis_scalar\u001b[0m\u001b[1;33m(\u001b[0m\u001b[0mresult\u001b[0m\u001b[1;33m)\u001b[0m\u001b[1;33m:\u001b[0m\u001b[1;33m\u001b[0m\u001b[1;33m\u001b[0m\u001b[0m\n\u001b[0;32m    283\u001b[0m             \u001b[1;32mreturn\u001b[0m \u001b[0mresult\u001b[0m\u001b[1;33m\u001b[0m\u001b[1;33m\u001b[0m\u001b[0m\n",
      "\u001b[1;32mC:\\ProgramData\\Anaconda3\\lib\\site-packages\\pandas\\core\\arrays\\_mixins.py\u001b[0m in \u001b[0;36m__getitem__\u001b[1;34m(self, key)\u001b[0m\n\u001b[0;32m    220\u001b[0m         \u001b[1;32mif\u001b[0m \u001b[0mlib\u001b[0m\u001b[1;33m.\u001b[0m\u001b[0mis_integer\u001b[0m\u001b[1;33m(\u001b[0m\u001b[0mkey\u001b[0m\u001b[1;33m)\u001b[0m\u001b[1;33m:\u001b[0m\u001b[1;33m\u001b[0m\u001b[1;33m\u001b[0m\u001b[0m\n\u001b[0;32m    221\u001b[0m             \u001b[1;31m# fast-path\u001b[0m\u001b[1;33m\u001b[0m\u001b[1;33m\u001b[0m\u001b[1;33m\u001b[0m\u001b[0m\n\u001b[1;32m--> 222\u001b[1;33m             \u001b[0mresult\u001b[0m \u001b[1;33m=\u001b[0m \u001b[0mself\u001b[0m\u001b[1;33m.\u001b[0m\u001b[0m_ndarray\u001b[0m\u001b[1;33m[\u001b[0m\u001b[0mkey\u001b[0m\u001b[1;33m]\u001b[0m\u001b[1;33m\u001b[0m\u001b[1;33m\u001b[0m\u001b[0m\n\u001b[0m\u001b[0;32m    223\u001b[0m             \u001b[1;32mif\u001b[0m \u001b[0mself\u001b[0m\u001b[1;33m.\u001b[0m\u001b[0mndim\u001b[0m \u001b[1;33m==\u001b[0m \u001b[1;36m1\u001b[0m\u001b[1;33m:\u001b[0m\u001b[1;33m\u001b[0m\u001b[1;33m\u001b[0m\u001b[0m\n\u001b[0;32m    224\u001b[0m                 \u001b[1;32mreturn\u001b[0m \u001b[0mself\u001b[0m\u001b[1;33m.\u001b[0m\u001b[0m_box_func\u001b[0m\u001b[1;33m(\u001b[0m\u001b[0mresult\u001b[0m\u001b[1;33m)\u001b[0m\u001b[1;33m\u001b[0m\u001b[1;33m\u001b[0m\u001b[0m\n",
      "\u001b[1;31mIndexError\u001b[0m: index 1 is out of bounds for axis 0 with size 1"
     ]
    }
   ],
   "source": []
  },
  {
   "cell_type": "code",
   "execution_count": null,
   "metadata": {},
   "outputs": [],
   "source": []
  }
 ],
 "metadata": {
  "hide_input": false,
  "kernelspec": {
   "display_name": "Python 3",
   "language": "python",
   "name": "python3"
  },
  "language_info": {
   "codemirror_mode": {
    "name": "ipython",
    "version": 3
   },
   "file_extension": ".py",
   "mimetype": "text/x-python",
   "name": "python",
   "nbconvert_exporter": "python",
   "pygments_lexer": "ipython3",
   "version": "3.8.8"
  },
  "toc": {
   "base_numbering": 1,
   "nav_menu": {},
   "number_sections": true,
   "sideBar": true,
   "skip_h1_title": false,
   "title_cell": "Table of Contents",
   "title_sidebar": "Contents",
   "toc_cell": false,
   "toc_position": {},
   "toc_section_display": true,
   "toc_window_display": false
  },
  "varInspector": {
   "cols": {
    "lenName": 16,
    "lenType": 16,
    "lenVar": 40
   },
   "kernels_config": {
    "python": {
     "delete_cmd_postfix": "",
     "delete_cmd_prefix": "del ",
     "library": "var_list.py",
     "varRefreshCmd": "print(var_dic_list())"
    },
    "r": {
     "delete_cmd_postfix": ") ",
     "delete_cmd_prefix": "rm(",
     "library": "var_list.r",
     "varRefreshCmd": "cat(var_dic_list()) "
    }
   },
   "types_to_exclude": [
    "module",
    "function",
    "builtin_function_or_method",
    "instance",
    "_Feature"
   ],
   "window_display": false
  }
 },
 "nbformat": 4,
 "nbformat_minor": 4
}
