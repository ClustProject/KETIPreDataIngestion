{
 "cells": [
  {
   "cell_type": "code",
   "execution_count": 1,
   "metadata": {
    "ExecuteTime": {
     "end_time": "2021-08-09T04:59:47.825691Z",
     "start_time": "2021-08-09T04:59:47.742732Z"
    }
   },
   "outputs": [],
   "source": [
    "import pandas as pd\n",
    "import sys\n",
    "import os\n",
    "sys.path.append(\"../\")\n",
    "sys.path.append(\"../..\")\n"
   ]
  },
  {
   "cell_type": "markdown",
   "metadata": {},
   "source": [
    "# Data Ingestion Initialization"
   ]
  },
  {
   "cell_type": "markdown",
   "metadata": {},
   "source": [
    "## DB Client "
   ]
  },
  {
   "cell_type": "code",
   "execution_count": 2,
   "metadata": {
    "ExecuteTime": {
     "end_time": "2021-08-09T05:06:13.784224Z",
     "start_time": "2021-08-09T05:06:13.777758Z"
    },
    "scrolled": true
   },
   "outputs": [],
   "source": [
    "from KETIPreDataIngestion.KETI_setting import influx_setting_KETI as ins\n",
    "from KETIPreDataIngestion.data_influx import influx_Client_v2 as influx_Client\n",
    "\n",
    "DBClient = influx_Client.influxClient(ins.CLUSTLocalInflux)\n",
    "db_list = DBClient.get_DBList()"
   ]
  },
  {
   "cell_type": "code",
   "execution_count": 3,
   "metadata": {
    "scrolled": false
   },
   "outputs": [
    {
     "data": {
      "text/plain": [
       "['bio_covid_vaccinations',\n",
       " 'traffic_seoul_subway',\n",
       " '_monitoring',\n",
       " 'city_exhibition_entrance_status',\n",
       " 'energy_electricity_transaction',\n",
       " 'energy_water_discharge',\n",
       " 'energy_wind_power',\n",
       " '_tasks',\n",
       " 'energy_fire_power',\n",
       " 'farm_strawberry_gunwi',\n",
       " 'energy_electronic_power',\n",
       " 'farm_strawberry_jinan',\n",
       " 'energy_solar',\n",
       " 'traffic_expressway',\n",
       " 'farm_strawberry_knu',\n",
       " 'traffic_public_parking',\n",
       " 'farm_strawberry_awon',\n",
       " 'traffic_seoul_bus',\n",
       " 'traffic_seoul_bike',\n",
       " 'bio_covid_infected_world',\n",
       " 'bio_covid_infected_korea',\n",
       " 'culture_subway']"
      ]
     },
     "execution_count": 3,
     "metadata": {},
     "output_type": "execute_result"
    }
   ],
   "source": [
    "db_list"
   ]
  },
  {
   "cell_type": "markdown",
   "metadata": {},
   "source": [
    "## DB MS Frequency"
   ]
  },
  {
   "cell_type": "code",
   "execution_count": 4,
   "metadata": {},
   "outputs": [
    {
     "data": {
      "text/plain": [
       "'argentina'"
      ]
     },
     "execution_count": 4,
     "metadata": {},
     "output_type": "execute_result"
    }
   ],
   "source": [
    "db_name ='bio_covid_infected_world'\n",
    "ms_name = DBClient.measurement_list(db_name)[0]\n",
    "ms_name"
   ]
  },
  {
   "cell_type": "code",
   "execution_count": 5,
   "metadata": {},
   "outputs": [
    {
     "name": "stdout",
     "output_type": "stream",
     "text": [
      "<class 'dict'>\n"
     ]
    }
   ],
   "source": [
    "freq = DBClient.get_freq(db_name, ms_name)\n",
    "freq\n",
    "print(type(freq))"
   ]
  },
  {
   "cell_type": "markdown",
   "metadata": {},
   "source": [
    "## DB and Measurement name setting"
   ]
  },
  {
   "cell_type": "code",
   "execution_count": 6,
   "metadata": {},
   "outputs": [],
   "source": [
    "db_name  = 'bio_covid_infected_world'"
   ]
  },
  {
   "cell_type": "code",
   "execution_count": 7,
   "metadata": {},
   "outputs": [
    {
     "name": "stdout",
     "output_type": "stream",
     "text": [
      "argentina\n"
     ]
    }
   ],
   "source": [
    "ms_list = DBClient.measurement_list(db_name)\n",
    "ms_name = ms_list[0]\n",
    "print(ms_name)"
   ]
  },
  {
   "cell_type": "markdown",
   "metadata": {},
   "source": [
    "# Data Ingestion Methods"
   ]
  },
  {
   "cell_type": "markdown",
   "metadata": {},
   "source": [
    "## pure data ingestion"
   ]
  },
  {
   "cell_type": "markdown",
   "metadata": {},
   "source": [
    "### Ingest Full Data"
   ]
  },
  {
   "cell_type": "code",
   "execution_count": 8,
   "metadata": {},
   "outputs": [
    {
     "name": "stdout",
     "output_type": "stream",
     "text": [
      "bio_covid_infected_world argentina\n"
     ]
    }
   ],
   "source": [
    "print(db_name, ms_name)"
   ]
  },
  {
   "cell_type": "code",
   "execution_count": 9,
   "metadata": {
    "scrolled": true
   },
   "outputs": [
    {
     "data": {
      "text/html": [
       "<div>\n",
       "<style scoped>\n",
       "    .dataframe tbody tr th:only-of-type {\n",
       "        vertical-align: middle;\n",
       "    }\n",
       "\n",
       "    .dataframe tbody tr th {\n",
       "        vertical-align: top;\n",
       "    }\n",
       "\n",
       "    .dataframe thead th {\n",
       "        text-align: right;\n",
       "    }\n",
       "</style>\n",
       "<table border=\"1\" class=\"dataframe\">\n",
       "  <thead>\n",
       "    <tr style=\"text-align: right;\">\n",
       "      <th></th>\n",
       "      <th>confirmed</th>\n",
       "      <th>deaths</th>\n",
       "    </tr>\n",
       "    <tr>\n",
       "      <th>_time</th>\n",
       "      <th></th>\n",
       "      <th></th>\n",
       "    </tr>\n",
       "  </thead>\n",
       "  <tbody>\n",
       "    <tr>\n",
       "      <th>2020-01-22 00:00:00+00:00</th>\n",
       "      <td>0</td>\n",
       "      <td>0</td>\n",
       "    </tr>\n",
       "    <tr>\n",
       "      <th>2020-01-23 00:00:00+00:00</th>\n",
       "      <td>0</td>\n",
       "      <td>0</td>\n",
       "    </tr>\n",
       "    <tr>\n",
       "      <th>2020-01-24 00:00:00+00:00</th>\n",
       "      <td>0</td>\n",
       "      <td>0</td>\n",
       "    </tr>\n",
       "    <tr>\n",
       "      <th>2020-01-25 00:00:00+00:00</th>\n",
       "      <td>0</td>\n",
       "      <td>0</td>\n",
       "    </tr>\n",
       "    <tr>\n",
       "      <th>2020-01-26 00:00:00+00:00</th>\n",
       "      <td>0</td>\n",
       "      <td>0</td>\n",
       "    </tr>\n",
       "  </tbody>\n",
       "</table>\n",
       "</div>"
      ],
      "text/plain": [
       "                           confirmed  deaths\n",
       "_time                                       \n",
       "2020-01-22 00:00:00+00:00          0       0\n",
       "2020-01-23 00:00:00+00:00          0       0\n",
       "2020-01-24 00:00:00+00:00          0       0\n",
       "2020-01-25 00:00:00+00:00          0       0\n",
       "2020-01-26 00:00:00+00:00          0       0"
      ]
     },
     "execution_count": 9,
     "metadata": {},
     "output_type": "execute_result"
    }
   ],
   "source": [
    "feature_list = DBClient.get_fieldList(db_name, ms_name)\n",
    "number = \"100000\"\n",
    "data = DBClient.get_datafront_by_num(number, db_name, ms_name)\n",
    "data.head()"
   ]
  },
  {
   "cell_type": "code",
   "execution_count": 10,
   "metadata": {},
   "outputs": [
    {
     "name": "stdout",
     "output_type": "stream",
     "text": [
      "2020-01-22T00:00:00Z 2021-11-07T00:00:00Z\n",
      "<class 'str'>\n"
     ]
    }
   ],
   "source": [
    "first = DBClient.get_first_time(db_name, ms_name)\n",
    "last = DBClient.get_last_time(db_name, ms_name)\n",
    "print(first, last)\n",
    "print(type(last))"
   ]
  },
  {
   "cell_type": "code",
   "execution_count": 11,
   "metadata": {},
   "outputs": [],
   "source": [
    "full_data = DBClient.get_data(db_name, ms_name)"
   ]
  },
  {
   "cell_type": "code",
   "execution_count": 12,
   "metadata": {},
   "outputs": [
    {
     "name": "stdout",
     "output_type": "stream",
     "text": [
      "                           confirmed  deaths\n",
      "_time                                       \n",
      "2020-01-22 00:00:00+00:00          0       0\n",
      "2020-01-23 00:00:00+00:00          0       0\n",
      "2020-01-24 00:00:00+00:00          0       0\n",
      "2020-01-25 00:00:00+00:00          0       0\n",
      "2020-01-26 00:00:00+00:00          0       0\n",
      "                           confirmed  deaths\n",
      "_time                                       \n",
      "2021-11-02 00:00:00+00:00    5291285  116010\n",
      "2021-11-03 00:00:00+00:00    5292549  116029\n",
      "2021-11-04 00:00:00+00:00    5293989  116055\n",
      "2021-11-05 00:00:00+00:00    5295260  116083\n",
      "2021-11-06 00:00:00+00:00    5296188  116091\n"
     ]
    }
   ],
   "source": [
    "query_end_time = last\n",
    "query_start_time = first\n",
    "bind_params = {'end_time':query_end_time, 'start_time': query_start_time}\n",
    "time_data = DBClient.get_data_by_time(bind_params, db_name, ms_name)\n",
    "print(time_data.head())\n",
    "print(time_data.tail())"
   ]
  },
  {
   "cell_type": "code",
   "execution_count": 13,
   "metadata": {},
   "outputs": [
    {
     "name": "stdout",
     "output_type": "stream",
     "text": [
      "                           confirmed  deaths\n",
      "_time                                       \n",
      "2020-01-22 00:00:00+00:00          0       0\n",
      "2020-01-23 00:00:00+00:00          0       0\n",
      "2020-01-24 00:00:00+00:00          0       0\n",
      "2020-01-25 00:00:00+00:00          0       0\n",
      "2020-01-26 00:00:00+00:00          0       0\n",
      "                           confirmed  deaths\n",
      "_time                                       \n",
      "2020-02-06 00:00:00+00:00          0       0\n",
      "2020-02-07 00:00:00+00:00          0       0\n",
      "2020-02-08 00:00:00+00:00          0       0\n",
      "2020-02-09 00:00:00+00:00          0       0\n",
      "2020-02-10 00:00:00+00:00          0       0\n"
     ]
    }
   ],
   "source": [
    "number=\"20\"\n",
    "time_data = DBClient.get_datafront_by_num(number, db_name, ms_name)\n",
    "print(time_data.head())\n",
    "print(time_data.tail())"
   ]
  },
  {
   "cell_type": "code",
   "execution_count": 14,
   "metadata": {},
   "outputs": [
    {
     "name": "stdout",
     "output_type": "stream",
     "text": [
      "                           confirmed  deaths\n",
      "_time                                       \n",
      "2021-10-31 00:00:00+00:00    5288807  115950\n",
      "2021-11-01 00:00:00+00:00    5289945  115989\n",
      "2021-11-02 00:00:00+00:00    5291285  116010\n",
      "2021-11-03 00:00:00+00:00    5292549  116029\n",
      "2021-11-04 00:00:00+00:00    5293989  116055                            confirmed  deaths\n",
      "_time                                       \n",
      "2021-11-03 00:00:00+00:00    5292549  116029\n",
      "2021-11-04 00:00:00+00:00    5293989  116055\n",
      "2021-11-05 00:00:00+00:00    5295260  116083\n",
      "2021-11-06 00:00:00+00:00    5296188  116091\n",
      "2021-11-07 00:00:00+00:00    5296781  116104\n"
     ]
    }
   ],
   "source": [
    "days = 7 \n",
    "bind_params = {'start_time':query_start_time , 'end_time': query_end_time,\"days\":str(days)+\"d\"}\n",
    "day_data = DBClient.get_data_by_days(bind_params, db_name, ms_name)\n",
    "print(day_data.head(), day_data.tail())"
   ]
  },
  {
   "cell_type": "code",
   "execution_count": 15,
   "metadata": {},
   "outputs": [
    {
     "name": "stdout",
     "output_type": "stream",
     "text": [
      "bio_covid_infected_world\n",
      "argentina\n"
     ]
    }
   ],
   "source": [
    "tag_list = DBClient.get_tagList(db_name, ms_name)\n",
    "print(db_name)\n",
    "print(ms_name)"
   ]
  },
  {
   "cell_type": "code",
   "execution_count": 16,
   "metadata": {},
   "outputs": [
    {
     "data": {
      "text/plain": [
       "['_start', '_stop']"
      ]
     },
     "execution_count": 16,
     "metadata": {},
     "output_type": "execute_result"
    }
   ],
   "source": [
    "tag_list"
   ]
  },
  {
   "cell_type": "code",
   "execution_count": 17,
   "metadata": {},
   "outputs": [],
   "source": [
    "tag_key = 'company'\n",
    "tag_value='컴캐스트'\n",
    "\n",
    "df = DBClient.get_TagGroupData(db_name, ms_name, tag_key, tag_value)"
   ]
  },
  {
   "cell_type": "code",
   "execution_count": 18,
   "metadata": {},
   "outputs": [
    {
     "name": "stdout",
     "output_type": "stream",
     "text": [
      "[<FluxTable: 3 columns, 0 records>]\n",
      "<class 'list'>\n"
     ]
    }
   ],
   "source": [
    "tag_distinct_value = DBClient.get_TagValue(db_name, ms_name, tag_key)\n",
    "print(type(tag_distinct_value))"
   ]
  },
  {
   "cell_type": "code",
   "execution_count": 19,
   "metadata": {},
   "outputs": [
    {
     "data": {
      "text/plain": [
       "[<FluxTable: 3 columns, 0 records>]"
      ]
     },
     "execution_count": 19,
     "metadata": {},
     "output_type": "execute_result"
    }
   ],
   "source": [
    "tag_distinct_value"
   ]
  },
  {
   "cell_type": "code",
   "execution_count": null,
   "metadata": {},
   "outputs": [],
   "source": []
  },
  {
   "cell_type": "code",
   "execution_count": 20,
   "metadata": {},
   "outputs": [],
   "source": [
    "BASE_DIR = os.getcwd()\n",
    "df_file = \"/home/leezy/CLUST_KETI/KETIPreDataIngestion/day_wise.csv\"\n",
    "input_file = os.path.join(BASE_DIR, df_file)\n",
    "df = pd.read_csv(df_file, parse_dates=True, index_col ='Date')"
   ]
  },
  {
   "cell_type": "code",
   "execution_count": 21,
   "metadata": {},
   "outputs": [],
   "source": [
    "bk_name = \"bk_write_test\"\n",
    "ms_name = \"ms_write_test\""
   ]
  },
  {
   "cell_type": "code",
   "execution_count": 22,
   "metadata": {},
   "outputs": [
    {
     "name": "stdout",
     "output_type": "stream",
     "text": [
      "========== create bucket ==========\n",
      "========== write success ==========\n"
     ]
    }
   ],
   "source": [
    "DBClient.write_db(bk_name, ms_name, df)\n"
   ]
  },
  {
   "cell_type": "code",
   "execution_count": null,
   "metadata": {},
   "outputs": [],
   "source": []
  }
 ],
 "metadata": {
  "hide_input": false,
  "kernelspec": {
   "display_name": "Python 3",
   "language": "python",
   "name": "python3"
  },
  "language_info": {
   "codemirror_mode": {
    "name": "ipython",
    "version": 3
   },
   "file_extension": ".py",
   "mimetype": "text/x-python",
   "name": "python",
   "nbconvert_exporter": "python",
   "pygments_lexer": "ipython3",
   "version": "3.8.8"
  },
  "toc": {
   "base_numbering": 1,
   "nav_menu": {},
   "number_sections": true,
   "sideBar": true,
   "skip_h1_title": false,
   "title_cell": "Table of Contents",
   "title_sidebar": "Contents",
   "toc_cell": false,
   "toc_position": {},
   "toc_section_display": true,
   "toc_window_display": false
  },
  "varInspector": {
   "cols": {
    "lenName": 16,
    "lenType": 16,
    "lenVar": 40
   },
   "kernels_config": {
    "python": {
     "delete_cmd_postfix": "",
     "delete_cmd_prefix": "del ",
     "library": "var_list.py",
     "varRefreshCmd": "print(var_dic_list())"
    },
    "r": {
     "delete_cmd_postfix": ") ",
     "delete_cmd_prefix": "rm(",
     "library": "var_list.r",
     "varRefreshCmd": "cat(var_dic_list()) "
    }
   },
   "types_to_exclude": [
    "module",
    "function",
    "builtin_function_or_method",
    "instance",
    "_Feature"
   ],
   "window_display": false
  }
 },
 "nbformat": 4,
 "nbformat_minor": 4
}
